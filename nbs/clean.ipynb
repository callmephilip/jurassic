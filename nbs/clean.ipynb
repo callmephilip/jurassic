{
 "cells": [
  {
   "cell_type": "markdown",
   "metadata": {},
   "source": [
    "# Clean\n",
    "\n",
    "Notebook clean functionality ported from\n",
    "[nbdev clean](https://github.com/AnswerDotAI/nbdev/blob/main/nbs/api/11_clean.ipynb)\n",
    "by jdawg"
   ]
  },
  {
   "cell_type": "code",
   "execution_count": 1,
   "metadata": {
    "execution": {
     "iopub.execute_input": "2025-01-03T09:53:52.847709Z",
     "iopub.status.busy": "2025-01-03T09:53:52.847680Z",
     "iopub.status.idle": "2025-01-03T09:53:52.987195Z",
     "shell.execute_reply": "2025-01-03T09:53:52.980264Z"
    }
   },
   "outputs": [],
   "source": [
    "// | export\n",
    "\n",
    "import type { RawCell } from \"jurassic/notebooks.ts\";\n",
    "import { loadNb, saveNb } from \"jurassic/notebooks.ts\";"
   ]
  },
  {
   "cell_type": "code",
   "execution_count": 2,
   "metadata": {
    "execution": {
     "iopub.execute_input": "2025-01-03T09:53:52.988145Z",
     "iopub.status.busy": "2025-01-03T09:53:52.988121Z",
     "iopub.status.idle": "2025-01-03T09:53:52.995482Z",
     "shell.execute_reply": "2025-01-03T09:53:52.988647Z"
    }
   },
   "outputs": [],
   "source": [
    "//| export\n",
    "\n",
    "const reprIdRegex = /(<.*?)( at 0x[0-9a-fA-F]+)(>)/;\n",
    "\n",
    "const skipOrSub = (x: string): string =>\n",
    "  x.includes(\"at 0x\") ? x.replace(reprIdRegex, \"$1$3\") : x;\n",
    "\n",
    "const cleanCellOutputId = (\n",
    "  lines: string | string[],\n",
    "): string | string[] =>\n",
    "  typeof lines === \"string\" ? skipOrSub(lines) : lines.map((o) => skipOrSub(o));"
   ]
  },
  {
   "cell_type": "code",
   "execution_count": 3,
   "metadata": {
    "execution": {
     "iopub.execute_input": "2025-01-03T09:53:52.997011Z",
     "iopub.status.busy": "2025-01-03T09:53:52.996989Z",
     "iopub.status.idle": "2025-01-03T09:53:53.019888Z",
     "shell.execute_reply": "2025-01-03T09:53:53.013065Z"
    }
   },
   "outputs": [
    {
     "name": "stdout",
     "output_type": "stream",
     "text": [
      "cleanCellOutputId - array input"
     ]
    },
    {
     "name": "stdout",
     "output_type": "stream",
     "text": [
      " ..."
     ]
    },
    {
     "name": "stdout",
     "output_type": "stream",
     "text": [
      " "
     ]
    },
    {
     "name": "stdout",
     "output_type": "stream",
     "text": [
      "\u001b[0m\u001b[32mok\u001b[0m"
     ]
    },
    {
     "name": "stdout",
     "output_type": "stream",
     "text": [
      " "
     ]
    },
    {
     "name": "stdout",
     "output_type": "stream",
     "text": [
      "\u001b[0m"
     ]
    },
    {
     "name": "stdout",
     "output_type": "stream",
     "text": [
      "\u001b[38;5;245m"
     ]
    },
    {
     "name": "stdout",
     "output_type": "stream",
     "text": [
      "(0ms)"
     ]
    },
    {
     "name": "stdout",
     "output_type": "stream",
     "text": [
      "\u001b[0m"
     ]
    },
    {
     "name": "stdout",
     "output_type": "stream",
     "text": [
      "\n"
     ]
    },
    {
     "name": "stdout",
     "output_type": "stream",
     "text": [
      "cleanCellOutputId - string input"
     ]
    },
    {
     "name": "stdout",
     "output_type": "stream",
     "text": [
      " ..."
     ]
    },
    {
     "name": "stdout",
     "output_type": "stream",
     "text": [
      " "
     ]
    },
    {
     "name": "stdout",
     "output_type": "stream",
     "text": [
      "\u001b[0m\u001b[32mok\u001b[0m"
     ]
    },
    {
     "name": "stdout",
     "output_type": "stream",
     "text": [
      " "
     ]
    },
    {
     "name": "stdout",
     "output_type": "stream",
     "text": [
      "\u001b[0m"
     ]
    },
    {
     "name": "stdout",
     "output_type": "stream",
     "text": [
      "\u001b[38;5;245m"
     ]
    },
    {
     "name": "stdout",
     "output_type": "stream",
     "text": [
      "(0ms)"
     ]
    },
    {
     "name": "stdout",
     "output_type": "stream",
     "text": [
      "\u001b[0m"
     ]
    },
    {
     "name": "stdout",
     "output_type": "stream",
     "text": [
      "\n"
     ]
    },
    {
     "name": "stdout",
     "output_type": "stream",
     "text": [
      "\n"
     ]
    },
    {
     "name": "stdout",
     "output_type": "stream",
     "text": [
      "\u001b[0m\u001b[32mok\u001b[0m"
     ]
    },
    {
     "name": "stdout",
     "output_type": "stream",
     "text": [
      " | "
     ]
    },
    {
     "name": "stdout",
     "output_type": "stream",
     "text": [
      "2 passed | 0 failed"
     ]
    },
    {
     "name": "stdout",
     "output_type": "stream",
     "text": [
      " "
     ]
    },
    {
     "name": "stdout",
     "output_type": "stream",
     "text": [
      "\u001b[0m"
     ]
    },
    {
     "name": "stdout",
     "output_type": "stream",
     "text": [
      "\u001b[38;5;245m"
     ]
    },
    {
     "name": "stdout",
     "output_type": "stream",
     "text": [
      "(0ms)"
     ]
    },
    {
     "name": "stdout",
     "output_type": "stream",
     "text": [
      "\u001b[0m"
     ]
    },
    {
     "name": "stdout",
     "output_type": "stream",
     "text": [
      "\n"
     ]
    }
   ],
   "source": [
    "import { assertEquals } from \"jsr:@std/assert\";\n",
    "\n",
    "Deno.test(\"cleanCellOutputId - array input\", () => {\n",
    "  assertEquals(\n",
    "    cleanCellOutputId([\n",
    "      \"Lambda(func=)\",\n",
    "      \"[,\\n\",\n",
    "      \"(, , )\",\n",
    "    ]),\n",
    "    [\n",
    "      \"Lambda(func=)\",\n",
    "      \"[,\\n\",\n",
    "      \"(, , )\",\n",
    "    ],\n",
    "  );\n",
    "});\n",
    "\n",
    "Deno.test(\"cleanCellOutputId - string input\", () => {\n",
    "  assertEquals(\n",
    "    cleanCellOutputId(\"foo\\n\\nbar\"),\n",
    "    \"foo\\n\\nbar\",\n",
    "  );\n",
    "});"
   ]
  },
  {
   "cell_type": "code",
   "execution_count": 4,
   "metadata": {
    "execution": {
     "iopub.execute_input": "2025-01-03T09:53:53.041792Z",
     "iopub.status.busy": "2025-01-03T09:53:53.041760Z",
     "iopub.status.idle": "2025-01-03T09:53:53.049283Z",
     "shell.execute_reply": "2025-01-03T09:53:53.042446Z"
    }
   },
   "outputs": [],
   "source": [
    "//| export\n",
    "\n",
    "const cleanCellOutput = (cell: RawCell, cleanIds: boolean): RawCell => {\n",
    "  const outputs = cell.outputs || [];\n",
    "\n",
    "  outputs.forEach((o) => {\n",
    "    if (\"execution_count\" in o) {\n",
    "      o.execution_count = null;\n",
    "    }\n",
    "\n",
    "    const data = o.data || {};\n",
    "    delete data[\"application/vnd.google.colaboratory.intrinsic+json\"];\n",
    "\n",
    "    for (const k in data) {\n",
    "      if (k.startsWith(\"text\") && cleanIds) {\n",
    "        data[k] = cleanCellOutputId(data[k]);\n",
    "      }\n",
    "      if (k.startsWith(\"image\") && !k.includes(\"svg\")) {\n",
    "        data[k] = data[k].trimEnd();\n",
    "      }\n",
    "    }\n",
    "\n",
    "    if (o.text && cleanIds) {\n",
    "      o.text = cleanCellOutputId(o.text);\n",
    "    }\n",
    "\n",
    "    if (o.metadata) {\n",
    "      delete o.metadata.tags;\n",
    "    }\n",
    "  });\n",
    "\n",
    "  return cell;\n",
    "};"
   ]
  },
  {
   "cell_type": "code",
   "execution_count": 5,
   "metadata": {
    "execution": {
     "iopub.execute_input": "2025-01-03T09:53:53.050142Z",
     "iopub.status.busy": "2025-01-03T09:53:53.050117Z",
     "iopub.status.idle": "2025-01-03T09:53:53.057007Z",
     "shell.execute_reply": "2025-01-03T09:53:53.050688Z"
    }
   },
   "outputs": [],
   "source": [
    "//| export\n",
    "\n",
    "const cleanCell = (\n",
    "  cell: RawCell,\n",
    "  clearAll: boolean,\n",
    "  allowedMetadataKeys: string[],\n",
    "  cleanIds: boolean,\n",
    "): RawCell => {\n",
    "  if (\"execution_count\" in cell) {\n",
    "    cell.execution_count = null;\n",
    "  }\n",
    "\n",
    "  if (\"outputs\" in cell) {\n",
    "    if (clearAll) {\n",
    "      cell.outputs = [];\n",
    "    } else {\n",
    "      cleanCellOutput(cell, cleanIds);\n",
    "    }\n",
    "  }\n",
    "\n",
    "  if (cell.source && cell.source.length === 1 && cell.source[0] === \"\") {\n",
    "    cell.source = [];\n",
    "  }\n",
    "\n",
    "  cell.metadata = clearAll ? {} : Object.fromEntries(\n",
    "    Object.entries(cell.metadata || {})\n",
    "      .filter(([k]) => allowedMetadataKeys.includes(k)),\n",
    "  );\n",
    "\n",
    "  return cell;\n",
    "};"
   ]
  },
  {
   "cell_type": "code",
   "execution_count": 6,
   "metadata": {
    "execution": {
     "iopub.execute_input": "2025-01-03T09:53:53.057684Z",
     "iopub.status.busy": "2025-01-03T09:53:53.057661Z",
     "iopub.status.idle": "2025-01-03T09:53:53.065143Z",
     "shell.execute_reply": "2025-01-03T09:53:53.058309Z"
    }
   },
   "outputs": [],
   "source": [
    "//| export\n",
    "\n",
    "export const cleanNotebook = async (\n",
    "  nbPath: string,\n",
    "  clearAll = false,\n",
    "  allowedMetadataKeys: string[] = [],\n",
    "  allowedCellMetadataKeys: string[] = [],\n",
    "  cleanIds = true,\n",
    "): Promise<void> => {\n",
    "  const nb = await loadNb(nbPath);\n",
    "  const metadataKeys = new Set([\n",
    "    \"kernelspec\",\n",
    "    \"jekyll\",\n",
    "    \"jupytext\",\n",
    "    \"doc\",\n",
    "    \"widgets\",\n",
    "    ...allowedMetadataKeys,\n",
    "  ]);\n",
    "\n",
    "  const cellMetadataKeys = new Set([\n",
    "    \"hide_input\",\n",
    "    ...allowedCellMetadataKeys,\n",
    "  ]);\n",
    "\n",
    "  nb.rawCells.forEach((c) =>\n",
    "    cleanCell(c, clearAll, Array.from(cellMetadataKeys), cleanIds)\n",
    "  );\n",
    "\n",
    "  const kernelName = nb.metadata?.kernelspec?.name;\n",
    "  if (nb.metadata && kernelName) {\n",
    "    nb.metadata.kernelspec.display_name = kernelName;\n",
    "  }\n",
    "\n",
    "  nb.metadata = Object.fromEntries(\n",
    "    Object.entries(nb.metadata || {})\n",
    "      .filter(([k]) => metadataKeys.has(k)),\n",
    "  );\n",
    "\n",
    "  // additional cleaning\n",
    "  nb.rawCells = nb.rawCells.map((c: Cell) => {\n",
    "    if (\n",
    "      c.cell_type !== \"code\" ||\n",
    "      !c.source.join(\"\\n\").includes(\"Deno.test\")\n",
    "    ) {\n",
    "      return c;\n",
    "    }\n",
    "    return Object.assign({}, c, {\n",
    "      outputs: [],\n",
    "    });\n",
    "  });\n",
    "\n",
    "  await saveNb(nb);\n",
    "};"
   ]
  },
  {
   "cell_type": "code",
   "execution_count": 7,
   "metadata": {
    "execution": {
     "iopub.execute_input": "2025-01-03T09:53:53.066100Z",
     "iopub.status.busy": "2025-01-03T09:53:53.066076Z",
     "iopub.status.idle": "2025-01-03T09:53:53.073341Z",
     "shell.execute_reply": "2025-01-03T09:53:53.066487Z"
    }
   },
   "outputs": [],
   "source": [
    "// import { j } from \"jurassic/jdawg.ts\";\n",
    "\n",
    "// j.initialize(\"clean.ipynb\");\n",
    "\n",
    "// await j`convert this python to typescript:\n",
    "// def clean_nb(\n",
    "//     nb, # The notebook to clean\n",
    "//     clear_all=False, # Remove all cell metadata and cell outputs?\n",
    "//     allowed_metadata_keys:list=None, # Preserve the list of keys in the main notebook metadata\n",
    "//     allowed_cell_metadata_keys:list=None, # Preserve the list of keys in cell level metadata\n",
    "//     clean_ids=True, # Remove ids from plaintext reprs?\n",
    "// ):\n",
    "//     \"Clean nb from superfluous metadata\"\n",
    "//     metadata_keys = {\"kernelspec\", \"jekyll\", \"jupytext\", \"doc\", \"widgets\"}\n",
    "//     if allowed_metadata_keys: metadata_keys.update(allowed_metadata_keys)\n",
    "//     cell_metadata_keys = {\"hide_input\"}\n",
    "//     if allowed_cell_metadata_keys: cell_metadata_keys.update(allowed_cell_metadata_keys)\n",
    "//     for c in nb['cells']: _clean_cell(c, clear_all, cell_metadata_keys, clean_ids)\n",
    "//     if nb.get('metadata', {}).get('kernelspec', {}).get('name', None):\n",
    "//         nb['metadata']['kernelspec']['display_name'] = nb[\"metadata\"][\"kernelspec\"][\"name\"]\n",
    "//     nb['metadata'] = {k:v for k,v in nb['metadata'].items() if k in metadata_keys}\n",
    "// `;"
   ]
  }
 ],
 "metadata": {
  "kernelspec": {
   "display_name": "deno",
   "language": "typescript",
   "name": "deno"
  },
  "language_info": {
   "codemirror_mode": "typescript",
   "file_extension": ".ts",
   "mimetype": "text/x.typescript",
   "name": "typescript",
   "nbconvert_exporter": "script",
   "pygments_lexer": "typescript",
   "version": "5.6.2"
  }
 },
 "nbformat": 4,
 "nbformat_minor": 2
}
