{
 "cells": [
  {
   "cell_type": "markdown",
   "metadata": {},
   "source": [
    "# Locate and Parse notebooks\n",
    "\n",
    "Homemade Jupyter notebook parser + helper to locate notebooks to parse"
   ]
  },
  {
   "cell_type": "code",
   "execution_count": 16,
   "metadata": {},
   "outputs": [],
   "source": [
    "//| export\n",
    "\n",
    "import path from \"node:path\";\n",
    "import { z } from \"zod\";\n",
    "import type { Config } from \"jurassic/config.ts\";"
   ]
  },
  {
   "cell_type": "code",
   "execution_count": 17,
   "metadata": {},
   "outputs": [],
   "source": [
    "//| export\n",
    "\n",
    "const cellSchema = z.object({\n",
    "  cell_type: z.enum([\"code\", \"markdown\"]),\n",
    "  source: z.array(z.string()),\n",
    "});\n",
    "const nbSchema = z.object({ cells: z.array(cellSchema) });\n",
    "\n",
    "export type Cell = z.infer<typeof cellSchema>;\n",
    "export type Nb = z.infer<typeof nbSchema>;\n",
    "\n",
    "export const loadNb = async (nbPath: string): Promise<Nb> =>\n",
    "  nbSchema.parse(JSON.parse(await Deno.readTextFile(nbPath)));"
   ]
  },
  {
   "cell_type": "code",
   "execution_count": 18,
   "metadata": {},
   "outputs": [],
   "source": [
    "//| export\n",
    "\n",
    "export const getNotebooksToProcess = async (\n",
    "  notebookPath: string,\n",
    "  config: Config,\n",
    "): Promise<string[]> => {\n",
    "  const fullPath = path.join(config.nbsPath, notebookPath);\n",
    "  const fileInfo = await Deno.stat(fullPath);\n",
    "  const notebooksToProcess: string[] = [];\n",
    "\n",
    "  if (fileInfo.isDirectory) {\n",
    "    // if target is a directory, let's go through all files/directories inside\n",
    "    for await (const file of await Deno.readDir(fullPath)) {\n",
    "      if (file.isDirectory) {\n",
    "        // got another directory? delegate to another getNotebooksToProcess\n",
    "        const childNbs = await getNotebooksToProcess(\n",
    "          path.join(notebookPath, file.name),\n",
    "          config,\n",
    "        );\n",
    "        for (const nb of childNbs) {\n",
    "          notebooksToProcess.push(nb);\n",
    "        }\n",
    "        continue;\n",
    "      }\n",
    "\n",
    "      // we are only interested in notebooks\n",
    "      if (!file.name.endsWith(\".ipynb\")) continue;\n",
    "\n",
    "      // relative path only, puhleeze\n",
    "      notebooksToProcess.push(\n",
    "        path.relative(config.nbsPath, path.join(fullPath, file.name)),\n",
    "      );\n",
    "    }\n",
    "  }\n",
    "\n",
    "  return notebooksToProcess;\n",
    "};"
   ]
  },
  {
   "cell_type": "markdown",
   "metadata": {},
   "source": [
    "Let's see what `getNotebooksToProcess` looks like for the current project:"
   ]
  },
  {
   "cell_type": "code",
   "execution_count": 19,
   "metadata": {},
   "outputs": [
    {
     "data": {
      "text/plain": [
       "[\n",
       "  \u001b[32m\"submodule/hello.ipynb\"\u001b[39m,\n",
       "  \u001b[32m\"docs.ipynb\"\u001b[39m,\n",
       "  \u001b[32m\"notebooks.ipynb\"\u001b[39m,\n",
       "  \u001b[32m\"config.ipynb\"\u001b[39m,\n",
       "  \u001b[32m\"export.ipynb\"\u001b[39m\n",
       "]"
      ]
     },
     "execution_count": 19,
     "metadata": {},
     "output_type": "execute_result"
    }
   ],
   "source": [
    "import { getTestConfig } from \"jurassic/config.ts\";\n",
    "await getNotebooksToProcess(\".\", getTestConfig(\"../\"));\n"
   ]
  }
 ],
 "metadata": {
  "kernelspec": {
   "display_name": "Deno",
   "language": "typescript",
   "name": "deno"
  },
  "language_info": {
   "codemirror_mode": "typescript",
   "file_extension": ".ts",
   "mimetype": "text/x.typescript",
   "name": "typescript",
   "nbconvert_exporter": "script",
   "pygments_lexer": "typescript",
   "version": "5.6.2"
  }
 },
 "nbformat": 4,
 "nbformat_minor": 2
}
