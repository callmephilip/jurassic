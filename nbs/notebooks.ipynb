{
 "cells": [
  {
   "cell_type": "markdown",
   "metadata": {},
   "source": [
    "# Parse notebooks\n",
    "\n",
    "Homemade Jupyter notebook parser"
   ]
  },
  {
   "cell_type": "code",
   "execution_count": 10,
   "metadata": {},
   "outputs": [],
   "source": [
    "//| export\n",
    "\n",
    "import { z } from \"zod\";"
   ]
  },
  {
   "cell_type": "code",
   "execution_count": 11,
   "metadata": {},
   "outputs": [],
   "source": [
    "//| export\n",
    "\n",
    "const cellSchema = z.object({\n",
    "  cell_type: z.enum([\"code\", \"markdown\"]),\n",
    "  source: z.array(z.string()),\n",
    "});\n",
    "const nbSchema = z.object({ cells: z.array(cellSchema) });\n",
    "\n",
    "export type Cell = z.infer<typeof cellSchema>;\n",
    "export type Nb = z.infer<typeof nbSchema>;\n",
    "\n",
    "export const loadNb = async (nbPath: string): Promise<Nb> =>\n",
    "  nbSchema.parse(JSON.parse(await Deno.readTextFile(nbPath)));"
   ]
  }
 ],
 "metadata": {
  "kernelspec": {
   "display_name": "Deno",
   "language": "typescript",
   "name": "deno"
  },
  "language_info": {
   "codemirror_mode": "typescript",
   "file_extension": ".ts",
   "mimetype": "text/x.typescript",
   "name": "typescript",
   "nbconvert_exporter": "script",
   "pygments_lexer": "typescript",
   "version": "5.6.2"
  }
 },
 "nbformat": 4,
 "nbformat_minor": 2
}
