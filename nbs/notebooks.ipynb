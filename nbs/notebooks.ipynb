{
 "cells": [
  {
   "cell_type": "markdown",
   "metadata": {},
   "source": [
    "# Locate and Parse notebooks\n",
    "\n",
    "Homemade Jupyter notebook parser + helper to locate notebooks to parse"
   ]
  },
  {
   "cell_type": "code",
   "execution_count": 1,
   "metadata": {
    "execution": {
     "iopub.execute_input": "2024-12-16T12:31:20.585082Z",
     "iopub.status.busy": "2024-12-16T12:31:20.585054Z",
     "iopub.status.idle": "2024-12-16T12:31:20.596068Z",
     "shell.execute_reply": "2024-12-16T12:31:20.589204Z"
    }
   },
   "outputs": [],
   "source": [
    "//| export\n",
    "\n",
    "import path from \"node:path\";\n",
    "import { z } from \"zod\";"
   ]
  },
  {
   "cell_type": "code",
   "execution_count": 2,
   "metadata": {
    "execution": {
     "iopub.execute_input": "2024-12-16T12:31:20.596870Z",
     "iopub.status.busy": "2024-12-16T12:31:20.596849Z",
     "iopub.status.idle": "2024-12-16T12:31:20.604230Z",
     "shell.execute_reply": "2024-12-16T12:31:20.598127Z"
    }
   },
   "outputs": [],
   "source": [
    "//| export\n",
    "\n",
    "const cellOutputDataSchema = z.object({\n",
    "  \"text/markdown\": z.array(z.string()).optional(),\n",
    "  \"text/plain\": z.array(z.string()).optional(),\n",
    "});\n",
    "\n",
    "const cellOutputSchema = z.object({\n",
    "  text: z.array(z.string()).optional(),\n",
    "  data: cellOutputDataSchema.optional(),\n",
    "});\n",
    "\n",
    "const cellSchema = z.object({\n",
    "  cell_type: z.enum([\"code\", \"markdown\"]),\n",
    "  source: z.array(z.string()),\n",
    "  outputs: z.array(cellOutputSchema).optional(),\n",
    "});\n",
    "const nbSchema = z.object({ filename: z.string(), cells: z.array(cellSchema) });\n",
    "\n",
    "export type Cell = z.infer<typeof cellSchema>;\n",
    "export type Nb = z.infer<typeof nbSchema>;\n",
    "\n",
    "export const loadNb = async (nbPath: string): Promise<Nb> =>\n",
    "  nbSchema.parse(\n",
    "    Object.assign(\n",
    "      { filename: nbPath },\n",
    "      JSON.parse(await Deno.readTextFile(nbPath)),\n",
    "    ),\n",
    "  );"
   ]
  },
  {
   "cell_type": "markdown",
   "metadata": {},
   "source": [
    "# Get notebook title\n",
    "\n",
    "Try to get a human readable title for a notebook using the following approach:\n",
    "\n",
    "- grab the first md cell in the notebook, and return first h1 inside of\n",
    "- if this fails, return notebook filename"
   ]
  },
  {
   "cell_type": "code",
   "execution_count": 3,
   "metadata": {
    "execution": {
     "iopub.execute_input": "2024-12-16T12:31:20.604965Z",
     "iopub.status.busy": "2024-12-16T12:31:20.604939Z",
     "iopub.status.idle": "2024-12-16T12:31:20.611670Z",
     "shell.execute_reply": "2024-12-16T12:31:20.605511Z"
    }
   },
   "outputs": [],
   "source": [
    "//| export\n",
    "\n",
    "export const getNbTitle = (nb: Nb): string => {\n",
    "  const mds = nb.cells.length > 0 && nb.cells[0].cell_type === \"markdown\"\n",
    "    ? nb.cells[0].source\n",
    "    : null;\n",
    "  const md = mds && mds.length > 0 && mds[0].trim().startsWith(\"# \")\n",
    "    ? mds[0]\n",
    "    : null;\n",
    "  return md\n",
    "    ? md.replace(/^# /, \"\").replaceAll(\"\\n\", \"\").trim()\n",
    "    : path.basename(nb.filename);\n",
    "};"
   ]
  },
  {
   "cell_type": "code",
   "execution_count": 4,
   "metadata": {
    "execution": {
     "iopub.execute_input": "2024-12-16T12:31:20.612414Z",
     "iopub.status.busy": "2024-12-16T12:31:20.612383Z",
     "iopub.status.idle": "2024-12-16T12:31:20.621351Z",
     "shell.execute_reply": "2024-12-16T12:31:20.615217Z"
    }
   },
   "outputs": [
    {
     "data": {
      "text/plain": [
       "\u001b[32m\"Locate and Parse notebooks\"\u001b[39m"
      ]
     },
     "execution_count": 4,
     "metadata": {},
     "output_type": "execute_result"
    }
   ],
   "source": [
    "getNbTitle(await loadNb(\"./notebooks.ipynb\"));"
   ]
  },
  {
   "cell_type": "markdown",
   "metadata": {},
   "source": [
    "# Parse cell output\n",
    "\n",
    "Jurassic needs to be able to convert individual cell output to test that can be\n",
    "displayed inside documentation"
   ]
  },
  {
   "cell_type": "code",
   "execution_count": 5,
   "metadata": {
    "execution": {
     "iopub.execute_input": "2024-12-16T12:31:20.638218Z",
     "iopub.status.busy": "2024-12-16T12:31:20.638177Z",
     "iopub.status.idle": "2024-12-16T12:31:20.645424Z",
     "shell.execute_reply": "2024-12-16T12:31:20.638860Z"
    }
   },
   "outputs": [],
   "source": [
    "//| export\n",
    "\n",
    "export const getCellOutput = (cell: Cell): string => {\n",
    "  let result = \"\";\n",
    "  if (!cell.outputs) return result;\n",
    "  for (const output of cell.outputs) {\n",
    "    if (output.text) {\n",
    "      result += output.text.join(\"\\n\");\n",
    "    }\n",
    "    if (output.data) {\n",
    "      const c = output.data[\"text/markdown\"] || output.data[\"text/plain\"] || [];\n",
    "      for (const line of c) {\n",
    "        result += line;\n",
    "      }\n",
    "    }\n",
    "  }\n",
    "  return result;\n",
    "};"
   ]
  },
  {
   "cell_type": "markdown",
   "metadata": {},
   "source": [
    "Some cells don't contain any output - return empty strings for those"
   ]
  },
  {
   "cell_type": "code",
   "execution_count": 6,
   "metadata": {
    "execution": {
     "iopub.execute_input": "2024-12-16T12:31:20.646101Z",
     "iopub.status.busy": "2024-12-16T12:31:20.646075Z",
     "iopub.status.idle": "2024-12-16T12:31:20.652374Z",
     "shell.execute_reply": "2024-12-16T12:31:20.646653Z"
    }
   },
   "outputs": [
    {
     "data": {
      "text/plain": [
       "\u001b[32m\"\"\u001b[39m"
      ]
     },
     "execution_count": 6,
     "metadata": {},
     "output_type": "execute_result"
    }
   ],
   "source": [
    "getCellOutput({ cell_type: \"code\", source: [\"//| export\"] });"
   ]
  },
  {
   "cell_type": "code",
   "execution_count": 7,
   "metadata": {
    "execution": {
     "iopub.execute_input": "2024-12-16T12:31:20.653080Z",
     "iopub.status.busy": "2024-12-16T12:31:20.653057Z",
     "iopub.status.idle": "2024-12-16T12:31:20.659669Z",
     "shell.execute_reply": "2024-12-16T12:31:20.653470Z"
    }
   },
   "outputs": [
    {
     "data": {
      "text/plain": [
       "\u001b[32m\"\"\u001b[39m"
      ]
     },
     "execution_count": 7,
     "metadata": {},
     "output_type": "execute_result"
    }
   ],
   "source": [
    "getCellOutput({ cell_type: \"code\", source: [] });"
   ]
  },
  {
   "cell_type": "markdown",
   "metadata": {},
   "source": [
    "Cells can output text"
   ]
  },
  {
   "cell_type": "code",
   "execution_count": 8,
   "metadata": {
    "execution": {
     "iopub.execute_input": "2024-12-16T12:31:20.660324Z",
     "iopub.status.busy": "2024-12-16T12:31:20.660304Z",
     "iopub.status.idle": "2024-12-16T12:31:20.667096Z",
     "shell.execute_reply": "2024-12-16T12:31:20.660898Z"
    }
   },
   "outputs": [
    {
     "data": {
      "text/plain": [
       "\u001b[32m\"isDirective ... \\x1b[0m\\x1b[32mok\\x1b[0m \\x1b[0m\\x1b[38;5;245m(0ms)\\x1b[0m\\n\"\u001b[39m +\n",
       "  \u001b[32m\"\\n\"\u001b[39m +\n",
       "  \u001b[32m\"\\n\"\u001b[39m +\n",
       "  \u001b[32m\"\\n\"\u001b[39m +\n",
       "  \u001b[32m\"\\x1b[0m\\x1b[32mok\\x1b[0m | 1 passed | 0 failed \\x1b[0m\\x1b[38;5;245m(0ms)\\x1b[0m\\n\"\u001b[39m"
      ]
     },
     "execution_count": 8,
     "metadata": {},
     "output_type": "execute_result"
    }
   ],
   "source": [
    "getCellOutput({\n",
    "  cell_type: \"code\",\n",
    "  source: [\n",
    "    'import { assertEquals } from \"jsr:@std/assert\";\\n',\n",
    "    \"\\n\",\n",
    "    'Deno.test(\"isDirective\", () => {\\n',\n",
    "    '  assertEquals(isDirective(\"//| export\"), true);\\n',\n",
    "    '  assertEquals(isDirective(\"const c = 1;\"), false);\\n',\n",
    "    '  assertEquals(isDirective(\"// | export\"), true);\\n',\n",
    "    '  assertEquals(isDirective(\"// |    export\"), true);\\n',\n",
    "    \"});\\n\",\n",
    "  ],\n",
    "  outputs: [\n",
    "    {\n",
    "      text: [\n",
    "        \"isDirective ... \\x1b[0m\\x1b[32mok\\x1b[0m \\x1b[0m\\x1b[38;5;245m(0ms)\\x1b[0m\\n\",\n",
    "        \"\\n\",\n",
    "        \"\\x1b[0m\\x1b[32mok\\x1b[0m | 1 passed | 0 failed \\x1b[0m\\x1b[38;5;245m(0ms)\\x1b[0m\\n\",\n",
    "      ],\n",
    "    },\n",
    "  ],\n",
    "});"
   ]
  },
  {
   "cell_type": "markdown",
   "metadata": {},
   "source": [
    "Cells can output markdown"
   ]
  },
  {
   "cell_type": "code",
   "execution_count": 9,
   "metadata": {
    "execution": {
     "iopub.execute_input": "2024-12-16T12:31:20.667768Z",
     "iopub.status.busy": "2024-12-16T12:31:20.667748Z",
     "iopub.status.idle": "2024-12-16T12:31:20.674747Z",
     "shell.execute_reply": "2024-12-16T12:31:20.668504Z"
    }
   },
   "outputs": [
    {
     "data": {
      "text/plain": [
       "\u001b[32m\"```ts\\n\"\u001b[39m +\n",
       "  \u001b[32m\"\\n\"\u001b[39m +\n",
       "  \u001b[32m\"// 🦕 AUTOGENERATED! DO NOT EDIT! File to edit: export.ipynb\\n\"\u001b[39m +\n",
       "  \u001b[32m\"\\n\"\u001b[39m +\n",
       "  \u001b[32m\"\\n\"\u001b[39m +\n",
       "  \u001b[32m'import path from \"node:path\";\\n'\u001b[39m +\n",
       "  \u001b[32m'import { getNotebooksToProcess, loadNb } from \"jurassic/notebooks.ts\";\\n'\u001b[39m +\n",
       "  \u001b[32m'import type { Config } from \"jurassic/config.ts\";\\n'\u001b[39m +\n",
       "  \u001b[32m'import type { Cell } from \"jurassic/notebooks.ts\";\\n'\u001b[39m"
      ]
     },
     "execution_count": 9,
     "metadata": {},
     "output_type": "execute_result"
    }
   ],
   "source": [
    "getCellOutput({\n",
    "  cell_type: \"code\",\n",
    "  source: [\n",
    "    \"await Deno.jupyter.display(\\n\",\n",
    "    \"  {\\n\",\n",
    "    '    \"text/markdown\": \"```ts\\\\n\\\\n\" +\\n',\n",
    "    '      (await processNb(path.resolve(\"./export.ipynb\"), \"export.ipynb\")) +\\n',\n",
    "    '      \"\\\\n```\",\\n',\n",
    "    \"  },\\n\",\n",
    "    \"  { raw: true },\\n\",\n",
    "    \");\",\n",
    "  ],\n",
    "  outputs: [\n",
    "    {\n",
    "      data: {\n",
    "        \"text/markdown\": [\n",
    "          \"```ts\\n\",\n",
    "          \"\\n\",\n",
    "          \"// 🦕 AUTOGENERATED! DO NOT EDIT! File to edit: export.ipynb\\n\",\n",
    "          \"\\n\",\n",
    "          \"\\n\",\n",
    "          'import path from \"node:path\";\\n',\n",
    "          'import { getNotebooksToProcess, loadNb } from \"jurassic/notebooks.ts\";\\n',\n",
    "          'import type { Config } from \"jurassic/config.ts\";\\n',\n",
    "          'import type { Cell } from \"jurassic/notebooks.ts\";\\n',\n",
    "        ],\n",
    "      },\n",
    "    },\n",
    "  ],\n",
    "});"
   ]
  }
 ],
 "metadata": {
  "kernelspec": {
   "display_name": "Deno",
   "language": "typescript",
   "name": "deno"
  },
  "language_info": {
   "codemirror_mode": "typescript",
   "file_extension": ".ts",
   "mimetype": "text/x.typescript",
   "name": "typescript",
   "nbconvert_exporter": "script",
   "pygments_lexer": "typescript",
   "version": "5.6.2"
  }
 },
 "nbformat": 4,
 "nbformat_minor": 2
}
