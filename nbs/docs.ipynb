{
 "cells": [
  {
   "cell_type": "markdown",
   "metadata": {},
   "source": [
    "# Docs\n",
    "\n",
    "Generate documentation for the project. Extract MD cells from all the notebooks\n",
    "and turn them into a doc site powered by [Vitepress](https://vitepress.dev/)\n",
    "hosted on Github Pages."
   ]
  },
  {
   "cell_type": "code",
   "execution_count": 28,
   "metadata": {},
   "outputs": [],
   "source": [
    "//| export\n",
    "\n",
    "import path from \"node:path\";\n",
    "import type { Config } from \"jurassic/config.ts\";\n",
    "import { getExportedDefinitions } from \"jurassic/utils.ts\";\n",
    "import {\n",
    "  getCellOutput,\n",
    "  getNbTitle,\n",
    "  getNotebooksToProcess,\n",
    "  loadNb,\n",
    "} from \"jurassic/notebooks.ts\";\n",
    "import type { Cell, Nb } from \"jurassic/notebooks.ts\";\n",
    "import { copySync } from \"@std/fs\";"
   ]
  },
  {
   "cell_type": "code",
   "execution_count": 29,
   "metadata": {},
   "outputs": [],
   "source": [
    "//| export\n",
    "\n",
    "const wrapCode = (code: string): string => \"```typescript\\n\" + code + \"\\n```\\n\";\n",
    "\n",
    "export const processCell = (cell: Cell): string => {\n",
    "  if (cell.cell_type === \"markdown\") {\n",
    "    // markdown cells - just show content directly\n",
    "    return cell.source.join(\"\");\n",
    "  }\n",
    "\n",
    "  if (cell.cell_type === \"code\") {\n",
    "    // code cells - show code and output\n",
    "    const code = cell.source.join(\"\");\n",
    "    const exports = getExportedDefinitions(code);\n",
    "\n",
    "    if (!exports) {\n",
    "      return (\n",
    "        wrapCode(code) +\n",
    "        \"\\n\" +\n",
    "        getCellOutput(cell)\n",
    "      );\n",
    "    }\n",
    "\n",
    "    return exports.reduce(\n",
    "      (acc, e) => acc + \"\\n\" + `## ${e.name}` + \"\\n\\n\" + wrapCode(e.signature),\n",
    "      \"\",\n",
    "    );\n",
    "  }\n",
    "\n",
    "  return \"\";\n",
    "};"
   ]
  },
  {
   "cell_type": "code",
   "execution_count": 30,
   "metadata": {},
   "outputs": [
    {
     "data": {
      "text/markdown": [
       "\n",
       "## c\n",
       "\n",
       "```typescript\n",
       "const c = () => any\n",
       "```\n"
      ]
     },
     "metadata": {},
     "output_type": "display_data"
    }
   ],
   "source": [
    "await Deno.jupyter.display(\n",
    "  {\n",
    "    \"text/markdown\": processCell({\n",
    "      cell_type: \"code\",\n",
    "      source: ['export const c = () => return \"c\";'],\n",
    "    }),\n",
    "  },\n",
    "  { raw: true },\n",
    ");"
   ]
  },
  {
   "cell_type": "code",
   "execution_count": 31,
   "metadata": {},
   "outputs": [],
   "source": [
    "//| export\n",
    "\n",
    "const moduleHeader = (): string => `\n",
    "---\n",
    "outline: deep\n",
    "---\n",
    "`;\n",
    "\n",
    "const processNb = async (\n",
    "  nbPath: string,\n",
    "  moduleName: string,\n",
    "): Promise<[Nb, string]> => {\n",
    "  // TODO: make use of moduleName\n",
    "  console.log(\"Processing notebook\", moduleName);\n",
    "  const nb = await loadNb(nbPath);\n",
    "  return [\n",
    "    nb,\n",
    "    nb.cells.reduce(\n",
    "      (acc, cell) => acc + \"\\n\\n\" + processCell(cell),\n",
    "      moduleHeader(),\n",
    "    ).trim(),\n",
    "  ];\n",
    "};"
   ]
  },
  {
   "cell_type": "code",
   "execution_count": 32,
   "metadata": {},
   "outputs": [
    {
     "name": "stdout",
     "output_type": "stream",
     "text": [
      "Processing notebook export.ipynb\n"
     ]
    },
    {
     "data": {
      "text/markdown": [
       "---\n",
       "outline: deep\n",
       "---\n",
       "\n",
       "\n",
       "# Export\n",
       "\n",
       "Parse notebook and extract exportable code cells into corresponding TS modules\n",
       "(directives shamelessly copied from `nbdev`)\n",
       "\n",
       "\n",
       "\n",
       "Helpers for determining if a given line in a cell is a directive. Directives\n",
       "look like this:\n",
       "\n",
       "```ts\n",
       "//| export\n",
       "```\n",
       "\n",
       "\n",
       "\n",
       "\n",
       "\n",
       "Determine if a given cell is exportable. \"Exportable\" means that its contents\n",
       "will end up in corresponding ts module.\n",
       "\n",
       "\n",
       "\n",
       "\n",
       "\n",
       "Process notebook - transfer exportable code from cells into ts module\n",
       "\n",
       "\n",
       "\n",
       "\n",
       "\n",
       "Main export functionality. `exportNb` should work on both individual notebooks\n",
       "and directories containing notebooks and subdirectories containing more\n",
       "notebooks 🕳. `notebookPath` is relative to `config.nbsPath`\n",
       "\n",
       "\n",
       "## exportNb\n",
       "\n",
       "```typescript\n",
       "const exportNb = (notebookPath: string, config: Config) => Promise<void>\n",
       "```\n",
       "\n",
       "\n",
       "## Tests\n",
       "\n",
       "Let's test export functionality"
      ]
     },
     "metadata": {},
     "output_type": "display_data"
    }
   ],
   "source": [
    "const [, md] = await processNb(\n",
    "  path.resolve(\"./export.ipynb\"),\n",
    "  \"export.ipynb\",\n",
    ");\n",
    "\n",
    "await Deno.jupyter.display(\n",
    "  {\n",
    "    \"text/markdown\": md,\n",
    "  },\n",
    "  { raw: true },\n",
    ");"
   ]
  },
  {
   "cell_type": "markdown",
   "metadata": {},
   "source": [
    "# Setup docs project structure\n",
    "\n",
    "Docs are build using Vitepress. We need to setup some basic scaffolding for it\n",
    "to work:"
   ]
  },
  {
   "cell_type": "markdown",
   "metadata": {},
   "source": [
    "- landing page defined in `index.md`"
   ]
  },
  {
   "cell_type": "markdown",
   "metadata": {},
   "source": [
    "- `package.json` with deps and scripts"
   ]
  },
  {
   "cell_type": "code",
   "execution_count": 33,
   "metadata": {},
   "outputs": [],
   "source": [
    "//| export\n",
    "\n",
    "const packageJSON = `\n",
    "{\n",
    "  \"name\": \"docs\",\n",
    "  \"version\": \"1.0.0\",\n",
    "  \"description\": \"\",\n",
    "  \"main\": \"index.js\",\n",
    "  \"scripts\": {\n",
    "    \"docs:dev\": \"vitepress dev --open\",\n",
    "    \"docs:build\": \"vitepress build\",\n",
    "    \"docs:preview\": \"vitepress preview\"\n",
    "  },\n",
    "  \"keywords\": [],\n",
    "  \"author\": \"\",\n",
    "  \"license\": \"ISC\",\n",
    "  \"devDependencies\": {\n",
    "    \"vitepress\": \"^1.5.0\"\n",
    "  }\n",
    "}`.trim();"
   ]
  },
  {
   "cell_type": "markdown",
   "metadata": {},
   "source": [
    "- VitePress config `.vitepress/config.mts`"
   ]
  },
  {
   "cell_type": "code",
   "execution_count": 34,
   "metadata": {},
   "outputs": [],
   "source": [
    "//| export\n",
    "\n",
    "const vitePressConfig = (\n",
    "  config: Config,\n",
    "  notebooks: Nb[],\n",
    "  mds: string[],\n",
    "): string => {\n",
    "  const docs = {\n",
    "    text: \"Reference\",\n",
    "    items: [...notebooks].map((nb, i) => ({\n",
    "      text: getNbTitle(nb),\n",
    "      link: `/${mds[i].replace(\".md\", \"\")}`,\n",
    "    })).sort((a, b) => a.text.localeCompare(b.text)),\n",
    "  };\n",
    "  const c = { ...config.vitepress };\n",
    "  c.themeConfig.sidebar = [...c.themeConfig.sidebar, docs];\n",
    "\n",
    "  return `\n",
    "import { defineConfig } from \"vitepress\";\n",
    "// https://vitepress.dev/reference/site-config\n",
    "export default defineConfig(${JSON.stringify(c, null, 2)});\n",
    "`.trim();\n",
    "};"
   ]
  },
  {
   "cell_type": "markdown",
   "metadata": {},
   "source": [
    "- docs flow\n",
    "  - create docs dir\n",
    "  - init vitepress inside\n",
    "    - package.json\n",
    "    - .vitepress dir\n",
    "- populate .vitepress/config.mts based on settings and layout\n",
    "- extract md from all notebooks and put in corresponding md files in docs"
   ]
  },
  {
   "cell_type": "code",
   "execution_count": 35,
   "metadata": {},
   "outputs": [],
   "source": [
    "//| export\n",
    "\n",
    "export const generateDocs = async (\n",
    "  notebookPath: string,\n",
    "  config: Config,\n",
    "): Promise<void> => {\n",
    "  const notebooksToProcess: string[] = await getNotebooksToProcess(\n",
    "    notebookPath,\n",
    "    config,\n",
    "  );\n",
    "  const notebooks: Nb[] = [];\n",
    "  const mds: string[] = [];\n",
    "\n",
    "  try {\n",
    "    await Deno.stat(config.docsOutputPath);\n",
    "    await Deno.remove(config.docsOutputPath, { recursive: true });\n",
    "  } catch {\n",
    "    // noop\n",
    "  }\n",
    "\n",
    "  try {\n",
    "    await Deno.stat(config.docsInputPath);\n",
    "    copySync(config.docsInputPath, config.docsOutputPath);\n",
    "  } catch {\n",
    "    // noop\n",
    "  }\n",
    "\n",
    "  // let's go through all notebooks and process them one by one\n",
    "  for (const notebook of notebooksToProcess) {\n",
    "    // output module is the same as the input notebook, but with .ts extension\n",
    "    const outputFile = notebook.replace(\".ipynb\", \".md\");\n",
    "    mds.push(outputFile);\n",
    "    // make sure we preserve subdirectories if any\n",
    "    const outputDir = path.join(\n",
    "      config.docsOutputPath,\n",
    "      path.dirname(outputFile),\n",
    "    );\n",
    "    await Deno.mkdir(outputDir, { recursive: true });\n",
    "\n",
    "    const [nb, md] = await processNb(\n",
    "      path.resolve(config.nbsPath, notebook),\n",
    "      notebook,\n",
    "    );\n",
    "    notebooks.push(nb);\n",
    "    await Deno.writeTextFile(path.join(config.docsOutputPath, outputFile), md);\n",
    "  }\n",
    "\n",
    "  const filesToWrite = {\n",
    "    \"package.json\": packageJSON,\n",
    "    \".vitepress/config.mts\": vitePressConfig(config, notebooks, mds),\n",
    "  };\n",
    "\n",
    "  // create .vitepress directory if it doesn't exist\n",
    "  if (!(await Deno.stat(path.join(config.docsOutputPath, \".vitepress\")))) {\n",
    "    await Deno.mkdir(path.join(config.docsOutputPath, \".vitepress\"));\n",
    "  }\n",
    "\n",
    "  // Write all files in a loop\n",
    "  for (const [filename, content] of Object.entries(filesToWrite)) {\n",
    "    await Deno.writeTextFile(\n",
    "      path.join(config.docsOutputPath, filename),\n",
    "      content,\n",
    "    );\n",
    "  }\n",
    "};"
   ]
  },
  {
   "cell_type": "markdown",
   "metadata": {},
   "source": [
    "# Tests\n",
    "\n",
    "Test doc generator"
   ]
  },
  {
   "cell_type": "code",
   "execution_count": 36,
   "metadata": {},
   "outputs": [
    {
     "name": "stdout",
     "output_type": "stream",
     "text": [
      "generateDocs ...\n",
      "  test generateDocs ...Processing notebook submodule/hello.ipynb\n",
      "Processing notebook export.ipynb\n"
     ]
    },
    {
     "data": {
      "text/markdown": [
       "```md\n",
       "- nbs\n",
       "  - submodule\n",
       "    - hello.ipynb\n",
       "  - export.ipynb\n",
       "- _docs\n",
       "  - submodule\n",
       "    - hello.md\n",
       "  - .vitepress\n",
       "    - config.mts\n",
       "    - theme\n",
       "      - index.js\n",
       "      - custom.css\n",
       "  - package.json\n",
       "  - index.md\n",
       "  - get-started.md\n",
       "  - export.md\n",
       "- docs\n",
       "  - .vitepress\n",
       "    - theme\n",
       "      - index.js\n",
       "      - custom.css\n",
       "  - index.md\n",
       "  - get-started.md\n",
       "\n",
       "```"
      ]
     },
     "metadata": {},
     "output_type": "display_data"
    },
    {
     "name": "stdout",
     "output_type": "stream",
     "text": [
      " \u001b[0m\u001b[32mok\u001b[0m \u001b[0m\u001b[38;5;245m(19ms)\u001b[0m\n",
      "generateDocs ... \u001b[0m\u001b[32mok\u001b[0m \u001b[0m\u001b[38;5;245m(23ms)\u001b[0m\n",
      "\n",
      "\u001b[0m\u001b[32mok\u001b[0m | 1 passed (1 step) | 0 failed \u001b[0m\u001b[38;5;245m(23ms)\u001b[0m\n"
     ]
    }
   ],
   "source": [
    "import { assert } from \"jsr:@std/assert\";\n",
    "import { getTestConfig } from \"jurassic/config.ts\";\n",
    "import { dirListing } from \"jurassic/utils.ts\";\n",
    "\n",
    "Deno.test(\"generateDocs\", async (t) => {\n",
    "  // set things up, let's recreate mini project structure inside a temp dir\n",
    "  const td = await Deno.makeTempDir({});\n",
    "\n",
    "  // recreate nbs dire in temp dir and copy notebooks there\n",
    "  await Deno.mkdir(`${td}/nbs`),\n",
    "    Deno.copyFileSync(\"./export.ipynb\", `${td}/nbs/export.ipynb`);\n",
    "  // recreate submodule directory and copy hello.ipynb to it\n",
    "  await Deno.mkdir(`${td}/nbs/submodule`),\n",
    "    Deno.copyFileSync(\n",
    "      \"./submodule/hello.ipynb\",\n",
    "      `${td}/nbs/submodule/hello.ipynb`,\n",
    "    );\n",
    "  copySync(\"../docs\", `${td}/docs`);\n",
    "\n",
    "  await t.step(\"test generateDocs\", async () => {\n",
    "    await generateDocs(\"./\", getTestConfig(td));\n",
    "\n",
    "    // pretty print temp directory structure\n",
    "    await Deno.jupyter.display(\n",
    "      {\n",
    "        \"text/markdown\": \"```md\\n\" + (await dirListing(td)) + \"\\n```\",\n",
    "      },\n",
    "      { raw: true },\n",
    "    );\n",
    "\n",
    "    // make sure output modules are created\n",
    "    Deno.readTextFile(`${td}/_docs/package.json`);\n",
    "    Deno.readTextFile(`${td}/_docs/index.md`);\n",
    "    const vitepressConfig = await Deno.readTextFile(\n",
    "      `${td}/_docs/.vitepress/config.mts`,\n",
    "    );\n",
    "    const exportContent = await Deno.readTextFile(`${td}/_docs/export.md`);\n",
    "    const submoduleExportContent = await Deno.readTextFile(\n",
    "      `${td}/_docs/submodule/hello.md`,\n",
    "    );\n",
    "\n",
    "    // spot check content inside the output modules\n",
    "    assert(exportContent.includes(\"# Export\"));\n",
    "    assert(submoduleExportContent.includes(\"# Hello\"));\n",
    "\n",
    "    // spot check vitepress config\n",
    "    assert(vitepressConfig.includes(\"export\"));\n",
    "    assert(vitepressConfig.includes(\"hello\"));\n",
    "    // make sure paths do not include nbs base dir\n",
    "    assert(!vitepressConfig.includes(\"nbs/export\"));\n",
    "    // make sure .md extensions get removed\n",
    "    assert(!vitepressConfig.includes(\"export.md\"));\n",
    "  });\n",
    "});"
   ]
  }
 ],
 "metadata": {
  "kernelspec": {
   "display_name": "Deno",
   "language": "typescript",
   "name": "deno"
  },
  "language_info": {
   "codemirror_mode": "typescript",
   "file_extension": ".ts",
   "mimetype": "text/x.typescript",
   "name": "typescript",
   "nbconvert_exporter": "script",
   "pygments_lexer": "typescript",
   "version": "5.6.2"
  }
 },
 "nbformat": 4,
 "nbformat_minor": 2
}
