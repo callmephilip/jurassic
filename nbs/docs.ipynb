{
 "cells": [
  {
   "cell_type": "markdown",
   "metadata": {},
   "source": [
    "# Docs\n",
    "\n",
    "Generate documentation for the project. Extract MD cells from all the notebooks\n",
    "and turn them into a doc site powered by [Vitepress](https://vitepress.dev/)\n",
    "hosted on Github Pages."
   ]
  },
  {
   "cell_type": "code",
   "execution_count": 37,
   "metadata": {},
   "outputs": [],
   "source": [
    "//| export\n",
    "\n",
    "import path from \"node:path\";\n",
    "import type { Config } from \"jurassic/config.ts\";\n",
    "import { getNotebooksToProcess, loadNb } from \"jurassic/notebooks.ts\";\n",
    "import type { Cell } from \"jurassic/notebooks.ts\";"
   ]
  },
  {
   "cell_type": "code",
   "execution_count": 38,
   "metadata": {},
   "outputs": [],
   "source": [
    "//| export\n",
    "\n",
    "const isDocCell = (cell: Cell): boolean => cell.cell_type === \"markdown\";"
   ]
  },
  {
   "cell_type": "code",
   "execution_count": 39,
   "metadata": {},
   "outputs": [
    {
     "name": "stdout",
     "output_type": "stream",
     "text": [
      "isDocCell ... \u001b[0m\u001b[32mok\u001b[0m \u001b[0m\u001b[38;5;245m(0ms)\u001b[0m\n",
      "\n",
      "\u001b[0m\u001b[32mok\u001b[0m | 1 passed | 0 failed \u001b[0m\u001b[38;5;245m(0ms)\u001b[0m\n"
     ]
    }
   ],
   "source": [
    "import { assertEquals } from \"jsr:@std/assert\";\n",
    "\n",
    "Deno.test(\"isDocCell\", () => {\n",
    "  assertEquals(\n",
    "    isDocCell({ cell_type: \"code\", source: [\"//| export\\n\"] }),\n",
    "    false,\n",
    "  );\n",
    "  assertEquals(\n",
    "    isDocCell({ cell_type: \"code\", source: [\"const c = 1;\"] }),\n",
    "    false,\n",
    "  );\n",
    "  assertEquals(\n",
    "    isDocCell({ cell_type: \"code\", source: [\"//|export\\n\"] }),\n",
    "    false,\n",
    "  );\n",
    "  assertEquals(\n",
    "    isDocCell({\n",
    "      cell_type: \"markdown\",\n",
    "      source: [\"# showing //| export\\n\"],\n",
    "    }),\n",
    "    true,\n",
    "  );\n",
    "});"
   ]
  },
  {
   "cell_type": "code",
   "execution_count": 40,
   "metadata": {},
   "outputs": [],
   "source": [
    "//| export\n",
    "\n",
    "const moduleHeader = (): string => `\n",
    "---\n",
    "outline: deep\n",
    "---\n",
    "`;\n",
    "\n",
    "const processNb = async (\n",
    "  nbPath: string,\n",
    "  moduleName: string,\n",
    "): Promise<string> => {\n",
    "  // TODO: make use of moduleName\n",
    "  console.log(\"Processing notebook\", moduleName);\n",
    "  const nb = await loadNb(nbPath);\n",
    "  // doc cells only\n",
    "  return nb.cells.filter((cell) => isDocCell(cell)).reduce(\n",
    "    (acc, cell) => acc + \"\\n\" + cell.source.join(\"\"),\n",
    "    moduleHeader(),\n",
    "  ).trim();\n",
    "};"
   ]
  },
  {
   "cell_type": "code",
   "execution_count": 41,
   "metadata": {},
   "outputs": [
    {
     "name": "stdout",
     "output_type": "stream",
     "text": [
      "Processing notebook export.ipynb\n"
     ]
    },
    {
     "data": {
      "text/markdown": [
       "---\n",
       "outline: deep\n",
       "---\n",
       "\n",
       "# Export\n",
       "\n",
       "Parse notebook and extract exportable code cells into corresponding TS modules\n",
       "(directives shamelessly copied from `nbdev`)\n",
       "Helpers for determining if a given line in a cell is a directive. Directives\n",
       "look like this:\n",
       "\n",
       "```ts\n",
       "//| export\n",
       "```\n",
       "Determine if a given cell is exportable. \"Exportable\" means that its contents\n",
       "will end up in corresponding ts module.\n",
       "Process notebook - transfer exportable code from cells into ts module\n",
       "Main export functionality. `exportNb` should work on both individual notebooks\n",
       "and directories containing notebooks and subdirectories containing more\n",
       "notebooks 🕳. `notebookPath` is relative to `config.nbsPath`\n",
       "## Tests\n",
       "\n",
       "Let's test export functionality"
      ]
     },
     "metadata": {},
     "output_type": "display_data"
    }
   ],
   "source": [
    "await Deno.jupyter.display(\n",
    "  {\n",
    "    \"text/markdown\": await processNb(\n",
    "      path.resolve(\"./export.ipynb\"),\n",
    "      \"export.ipynb\",\n",
    "    ),\n",
    "  },\n",
    "  { raw: true },\n",
    ");"
   ]
  },
  {
   "cell_type": "markdown",
   "metadata": {},
   "source": [
    "# Setup docs project structure\n",
    "\n",
    "Docs are build using Vitepress. We need to setup some basic scaffolding for it\n",
    "to work:"
   ]
  },
  {
   "cell_type": "markdown",
   "metadata": {},
   "source": [
    "- landing page defined in `index.md`"
   ]
  },
  {
   "cell_type": "code",
   "execution_count": 42,
   "metadata": {},
   "outputs": [],
   "source": [
    "//| export\n",
    "\n",
    "const indexMd = `\n",
    "---\n",
    "# https://vitepress.dev/reference/default-theme-home-page\n",
    "layout: home\n",
    "\n",
    "hero:\n",
    "  name: \"Jurassic\"\n",
    "  text: \"Jurassic docs\"\n",
    "  tagline: My great project tagline\n",
    "  actions:\n",
    "    - theme: brand\n",
    "      text: Markdown Examples\n",
    "      link: /markdown-examples\n",
    "    - theme: alt\n",
    "      text: API Examples\n",
    "      link: /api-examples\n",
    "\n",
    "features:\n",
    "  - title: Feature A\n",
    "    details: Lorem ipsum dolor sit amet, consectetur adipiscing elit\n",
    "  - title: Feature B\n",
    "    details: Lorem ipsum dolor sit amet, consectetur adipiscing elit\n",
    "  - title: Feature C\n",
    "    details: Lorem ipsum dolor sit amet, consectetur adipiscing elit\n",
    "---\n",
    "`.trim();"
   ]
  },
  {
   "cell_type": "markdown",
   "metadata": {},
   "source": [
    "- `package.json` with deps and scripts"
   ]
  },
  {
   "cell_type": "code",
   "execution_count": 43,
   "metadata": {},
   "outputs": [],
   "source": [
    "//| export\n",
    "\n",
    "const packageJSON = `\n",
    "{\n",
    "  \"name\": \"docs\",\n",
    "  \"version\": \"1.0.0\",\n",
    "  \"description\": \"\",\n",
    "  \"main\": \"index.js\",\n",
    "  \"scripts\": {\n",
    "    \"docs:dev\": \"vitepress dev\",\n",
    "    \"docs:build\": \"vitepress build\",\n",
    "    \"docs:preview\": \"vitepress preview\"\n",
    "  },\n",
    "  \"keywords\": [],\n",
    "  \"author\": \"\",\n",
    "  \"license\": \"ISC\",\n",
    "  \"devDependencies\": {\n",
    "    \"vitepress\": \"^1.5.0\"\n",
    "  }\n",
    "}`.trim();"
   ]
  },
  {
   "cell_type": "markdown",
   "metadata": {},
   "source": [
    "- VitePress config `.vitepress/config.mts`"
   ]
  },
  {
   "cell_type": "code",
   "execution_count": null,
   "metadata": {},
   "outputs": [],
   "source": [
    "//| export\n",
    "\n",
    "const vitePressConfig = (notebooks: string[]): string => {\n",
    "  const docs = `{\n",
    "        text: \"Docs\",\n",
    "        items: ${\n",
    "    JSON.stringify(\n",
    "      // sort by notebook name length for now\n",
    "      [...notebooks].sort((a, b) => a.length - b.length).map((nb) => ({\n",
    "        text: nb,\n",
    "        link: `/${nb.replace(\".ipynb\", \"\")}`,\n",
    "      })),\n",
    "    )\n",
    "  },\n",
    "      },`;\n",
    "  return `\n",
    "import { defineConfig } from \"vitepress\";\n",
    "\n",
    "// https://vitepress.dev/reference/site-config\n",
    "export default defineConfig({\n",
    "  title: \"Jurassic\",\n",
    "  description: \"Jurassic docs\",\n",
    "  base: \"/jurassic/\",\n",
    "  themeConfig: {\n",
    "    // https://vitepress.dev/reference/default-theme-config\n",
    "    nav: [\n",
    "      { text: \"Home\", link: \"/\" },\n",
    "    ],\n",
    "\n",
    "    search: {\n",
    "      provider: \"local\",\n",
    "    },\n",
    "\n",
    "    sidebar: [${docs}],\n",
    "\n",
    "    socialLinks: [\n",
    "      { icon: \"github\", link: \"https://github.com/vuejs/vitepress\" },\n",
    "    ],\n",
    "  },\n",
    "});\n",
    "`.trim();\n",
    "};"
   ]
  },
  {
   "cell_type": "markdown",
   "metadata": {},
   "source": [
    "- `.gitignore`"
   ]
  },
  {
   "cell_type": "code",
   "execution_count": 45,
   "metadata": {},
   "outputs": [],
   "source": [
    "//| export\n",
    "\n",
    "const gitIgnore = `\n",
    "node_modules\n",
    ".vitepress/dist\n",
    "`.trim();"
   ]
  },
  {
   "cell_type": "markdown",
   "metadata": {},
   "source": [
    "- docs flow\n",
    "  - create docs dir\n",
    "  - init vitepress inside\n",
    "    - package.json\n",
    "    - .gitignore\n",
    "    - .vitepress dir\n",
    "- populate .vitepress/config.mts based on settings and layout\n",
    "- extract md from all notebooks and put in corresponding md files in docs"
   ]
  },
  {
   "cell_type": "code",
   "execution_count": null,
   "metadata": {},
   "outputs": [],
   "source": [
    "//| export\n",
    "\n",
    "export const generateDocs = async (\n",
    "  notebookPath: string,\n",
    "  config: Config,\n",
    "): Promise<void> => {\n",
    "  const notebooksToProcess: string[] = await getNotebooksToProcess(\n",
    "    notebookPath,\n",
    "    config,\n",
    "  );\n",
    "\n",
    "  try {\n",
    "    await Deno.stat(config.docsPath);\n",
    "    await Deno.remove(config.docsPath, { recursive: true });\n",
    "  } catch {\n",
    "    // noop\n",
    "  }\n",
    "\n",
    "  // let's go through all notebooks and process them one by one\n",
    "  for (const notebook of notebooksToProcess) {\n",
    "    // output module is the same as the input notebook, but with .ts extension\n",
    "    const outputFile = notebook.replace(\".ipynb\", \".md\");\n",
    "    // make sure we preserve subdirectories if any\n",
    "    const outputDir = path.join(config.docsPath, path.dirname(outputFile));\n",
    "    await Deno.mkdir(outputDir, { recursive: true });\n",
    "    await Deno.writeTextFile(\n",
    "      path.join(config.docsPath, outputFile),\n",
    "      await processNb(path.resolve(config.nbsPath, notebook), notebook),\n",
    "    );\n",
    "  }\n",
    "\n",
    "  const filesToWrite = {\n",
    "    \"index.md\": indexMd,\n",
    "    \"package.json\": packageJSON,\n",
    "    \".vitepress/config.mts\": vitePressConfig(notebooksToProcess),\n",
    "    \".gitignore\": gitIgnore,\n",
    "  };\n",
    "\n",
    "  // create .vitepress directory\n",
    "  await Deno.mkdir(path.join(config.docsPath, \".vitepress\"));\n",
    "\n",
    "  // Write all files in a loop\n",
    "  for (const [filename, content] of Object.entries(filesToWrite)) {\n",
    "    await Deno.writeTextFile(path.join(config.docsPath, filename), content);\n",
    "  }\n",
    "};"
   ]
  },
  {
   "cell_type": "markdown",
   "metadata": {},
   "source": [
    "# Tests\n",
    "\n",
    "Test doc generator"
   ]
  },
  {
   "cell_type": "code",
   "execution_count": 47,
   "metadata": {},
   "outputs": [
    {
     "name": "stdout",
     "output_type": "stream",
     "text": [
      "generateDocs ...\n",
      "  test generateDocs ...outputDir>>>>>>>>>>>>> /var/folders/6_/kmpf38495hzcv9549vccky700000gn/T/4ea6a24d0fc63b95/docs\n",
      "Processing notebook submodule/hello.ipynb\n",
      "outputDir>>>>>>>>>>>>> /var/folders/6_/kmpf38495hzcv9549vccky700000gn/T/4ea6a24d0fc63b95/docs\n",
      "Processing notebook export.ipynb\n",
      "notebooks [ \"submodule/hello.ipynb\", \"export.ipynb\" ]\n"
     ]
    },
    {
     "data": {
      "text/markdown": [
       "```md\n",
       "- nbs\n",
       "  - submodule\n",
       "    - hello.ipynb\n",
       "  - export.ipynb\n",
       "- docs\n",
       "  - submodule\n",
       "    - hello.md\n",
       "  - .vitepress\n",
       "    - config.mts\n",
       "  - .gitignore\n",
       "  - package.json\n",
       "  - index.md\n",
       "  - export.md\n",
       "\n",
       "```"
      ]
     },
     "metadata": {},
     "output_type": "display_data"
    },
    {
     "name": "stdout",
     "output_type": "stream",
     "text": [
      " \u001b[0m\u001b[32mok\u001b[0m \u001b[0m\u001b[38;5;245m(4ms)\u001b[0m\n",
      "generateDocs ... \u001b[0m\u001b[32mok\u001b[0m \u001b[0m\u001b[38;5;245m(6ms)\u001b[0m\n",
      "\n",
      "\u001b[0m\u001b[32mok\u001b[0m | 1 passed (1 step) | 0 failed \u001b[0m\u001b[38;5;245m(6ms)\u001b[0m\n"
     ]
    }
   ],
   "source": [
    "import { assert } from \"jsr:@std/assert\";\n",
    "import { getTestConfig } from \"jurassic/config.ts\";\n",
    "import { dirListing } from \"jurassic/utils.ts\";\n",
    "\n",
    "Deno.test(\"generateDocs\", async (t) => {\n",
    "  // set things up, let's recreate mini project structure inside a temp dir\n",
    "  const td = await Deno.makeTempDir({});\n",
    "\n",
    "  // recreate nbs dire in temp dir and copy notebooks there\n",
    "  await Deno.mkdir(`${td}/nbs`),\n",
    "    Deno.copyFileSync(\"./export.ipynb\", `${td}/nbs/export.ipynb`);\n",
    "  // recreate submodule directory and copy hello.ipynb to it\n",
    "  await Deno.mkdir(`${td}/nbs/submodule`),\n",
    "    Deno.copyFileSync(\n",
    "      \"./submodule/hello.ipynb\",\n",
    "      `${td}/nbs/submodule/hello.ipynb`,\n",
    "    );\n",
    "\n",
    "  await t.step(\"test generateDocs\", async () => {\n",
    "    await generateDocs(\"./\", getTestConfig(td));\n",
    "\n",
    "    // make sure output modules are created\n",
    "    Deno.readTextFile(`${td}/docs/package.json`);\n",
    "    Deno.readTextFile(`${td}/docs/index.md`);\n",
    "    const vitepressConfig = await Deno.readTextFile(\n",
    "      `${td}/docs/.vitepress/config.mts`,\n",
    "    );\n",
    "    const exportContent = await Deno.readTextFile(`${td}/docs/export.md`);\n",
    "    const submoduleExportContent = await Deno.readTextFile(\n",
    "      `${td}/docs/submodule/hello.md`,\n",
    "    );\n",
    "\n",
    "    // spot check content inside the output modules\n",
    "    assert(exportContent.includes(\"# Export\"));\n",
    "    assert(submoduleExportContent.includes(\"# Hello\"));\n",
    "\n",
    "    // spot check vitepress config\n",
    "    assert(vitepressConfig.includes(\"export.ipynb\"));\n",
    "    assert(vitepressConfig.includes(\"submodule/hello.ipynb\"));\n",
    "\n",
    "    // pretty print temp directory structure\n",
    "    await Deno.jupyter.display(\n",
    "      {\n",
    "        \"text/markdown\": \"```md\\n\" + (await dirListing(td)) + \"\\n```\",\n",
    "      },\n",
    "      { raw: true },\n",
    "    );\n",
    "  });\n",
    "});"
   ]
  },
  {
   "cell_type": "code",
   "execution_count": 48,
   "metadata": {},
   "outputs": [
    {
     "name": "stdout",
     "output_type": "stream",
     "text": [
      "outputDir>>>>>>>>>>>>> /Users/philip/projects/jurassic/docs\n",
      "Processing notebook utils.ipynb\n",
      "outputDir>>>>>>>>>>>>> /Users/philip/projects/jurassic/docs\n",
      "Processing notebook submodule/hello.ipynb\n",
      "outputDir>>>>>>>>>>>>> /Users/philip/projects/jurassic/docs\n",
      "Processing notebook docs.ipynb\n",
      "outputDir>>>>>>>>>>>>> /Users/philip/projects/jurassic/docs\n",
      "Processing notebook notebooks.ipynb\n",
      "outputDir>>>>>>>>>>>>> /Users/philip/projects/jurassic/docs\n",
      "Processing notebook config.ipynb\n",
      "outputDir>>>>>>>>>>>>> /Users/philip/projects/jurassic/docs\n",
      "Processing notebook export.ipynb\n",
      "notebooks [\n",
      "  \"utils.ipynb\",\n",
      "  \"submodule/hello.ipynb\",\n",
      "  \"docs.ipynb\",\n",
      "  \"notebooks.ipynb\",\n",
      "  \"config.ipynb\",\n",
      "  \"export.ipynb\"\n",
      "]\n"
     ]
    }
   ],
   "source": [
    "import { getConfig } from \"jurassic/config.ts\";\n",
    "\n",
    "await generateDocs(\"./\", await getConfig());"
   ]
  }
 ],
 "metadata": {
  "kernelspec": {
   "display_name": "Deno",
   "language": "typescript",
   "name": "deno"
  },
  "language_info": {
   "codemirror_mode": "typescript",
   "file_extension": ".ts",
   "mimetype": "text/x.typescript",
   "name": "typescript",
   "nbconvert_exporter": "script",
   "pygments_lexer": "typescript",
   "version": "5.6.2"
  }
 },
 "nbformat": 4,
 "nbformat_minor": 2
}
