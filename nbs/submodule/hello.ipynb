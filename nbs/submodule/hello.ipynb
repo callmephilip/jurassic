{
 "cells": [
  {
   "cell_type": "markdown",
   "metadata": {},
   "source": [
    "# Test module"
   ]
  },
  {
   "cell_type": "code",
   "execution_count": 1,
   "metadata": {
    "execution": {
     "iopub.execute_input": "2024-12-16T12:31:18.604143Z",
     "iopub.status.busy": "2024-12-16T12:31:18.604113Z",
     "iopub.status.idle": "2024-12-16T12:31:18.611241Z",
     "shell.execute_reply": "2024-12-16T12:31:18.604836Z"
    }
   },
   "outputs": [],
   "source": [
    "//| export\n",
    "\n",
    "export const foo = (): void => console.log(\"foo\");"
   ]
  },
  {
   "cell_type": "markdown",
   "metadata": {},
   "source": [
    "This is a test module to. Nothing to see here."
   ]
  }
 ],
 "metadata": {
  "kernelspec": {
   "display_name": "Deno",
   "language": "typescript",
   "name": "deno"
  },
  "language_info": {
   "codemirror_mode": "typescript",
   "file_extension": ".ts",
   "mimetype": "text/x.typescript",
   "name": "typescript",
   "nbconvert_exporter": "script",
   "pygments_lexer": "typescript",
   "version": "5.6.2"
  }
 },
 "nbformat": 4,
 "nbformat_minor": 2
}
