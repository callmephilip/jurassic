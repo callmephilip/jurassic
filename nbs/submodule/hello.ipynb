{
  "metadata": {
    "kernelspec": {
      "display_name": "deno",
      "language": "typescript",
      "name": "deno"
    }
  },
  "cells": [
    {
      "cell_type": "markdown",
      "source": [
        "# Test module"
      ],
      "metadata": {},
      "isTestCell": false,
      "isExportable": false
    },
    {
      "cell_type": "code",
      "source": [
        "//| export\n",
        "\n",
        "export const foo = (): void => console.log(\"foo\");"
      ],
      "outputs": [],
      "metadata": {},
      "isTestCell": false,
      "isExportable": true
    },
    {
      "cell_type": "markdown",
      "source": [
        "This is a test module to. Nothing to see here."
      ],
      "metadata": {},
      "isTestCell": false,
      "isExportable": false
    }
  ]
}