{
  "metadata": {
    "kernelspec": {
      "display_name": "deno",
      "language": "typescript",
      "name": "deno"
    }
  },
  "cells": [
    {
      "cell_type": "markdown",
      "source": [
        "# Configuration\n",
        "\n",
        "Project configuration is stored in `jurassic.json` file"
      ],
      "metadata": {}
    },
    {
      "cell_type": "code",
      "source": [
        "//| export\n",
        "\n",
        "import { z } from \"zod\";\n",
        "import path from \"node:path\";\n",
        "import { getNotebooksToProcess } from \"jurassic/utils.ts\";"
      ],
      "outputs": [],
      "metadata": {}
    },
    {
      "cell_type": "code",
      "source": [
        "//| export\n",
        "\n",
        "const configSchema: z.Schema = z.object({\n",
        "  configPath: z.string(),\n",
        "  nbsPath: z.string().default(\".\"),\n",
        "  outputPath: z.string().default(\".\"),\n",
        "  docsInputPath: z.string().default(\".\"),\n",
        "  docsOutputPath: z.string().default(\".\"),\n",
        "  vitepress: z.object({\n",
        "    title: z.string(),\n",
        "    description: z.string(),\n",
        "    base: z.string(),\n",
        "    cleanUrls: z.boolean().default(true),\n",
        "    themeConfig: z.object({\n",
        "      nav: z.array(\n",
        "        z.object({\n",
        "          text: z.string(),\n",
        "          link: z.string(),\n",
        "        }),\n",
        "      ),\n",
        "      search: z.object({\n",
        "        provider: z.string(),\n",
        "      }),\n",
        "      sidebar: z.array(\n",
        "        z.object({\n",
        "          text: z.string(),\n",
        "          items: z.array(\n",
        "            z.object({\n",
        "              text: z.string(),\n",
        "              link: z.string(),\n",
        "            }),\n",
        "          ),\n",
        "        }),\n",
        "      ),\n",
        "      socialLinks: z.array(\n",
        "        z.object({\n",
        "          icon: z.string(),\n",
        "          link: z.string(),\n",
        "        }),\n",
        "      ),\n",
        "    }),\n",
        "  }),\n",
        "}).transform((data) => {\n",
        "  return Object.assign(data, {\n",
        "    notebooks: getNotebooksToProcess(\".\", data.nbsPath),\n",
        "  });\n",
        "});\n",
        "\n",
        "export type Config = z.infer<typeof configSchema>;"
      ],
      "outputs": [],
      "metadata": {}
    },
    {
      "cell_type": "markdown",
      "source": [
        "🕵️‍♀️ Looking for config. Start from `cwd` and keep going up if needed looking\n",
        "for `jurassic.json`. When running notebooks, it seems like `cwd` points to\n",
        "notebook's directory (at least when running in VS Code). Hence this extra\n",
        "gymnastics, just to be on the safe side. Notice `d` (depth) and `maxD` (max\n",
        "depth) to make sure things don't get out of control"
      ],
      "metadata": {}
    },
    {
      "cell_type": "code",
      "source": [
        "//| export\n",
        "\n",
        "const findConfig = async (\n",
        "  dir: string = Deno.cwd(),\n",
        "  d = 0,\n",
        "  config = \"jurassic.json\",\n",
        "  maxD = 10,\n",
        "): Promise<string> => {\n",
        "  if (d >= maxD) throw new Error(\"max depth reached\");\n",
        "\n",
        "  try {\n",
        "    const f = path.join(dir, config);\n",
        "    await Deno.lstat(f);\n",
        "    return f;\n",
        "  } catch {\n",
        "    return findConfig(path.join(dir, \"../\"), d + 1);\n",
        "  }\n",
        "};"
      ],
      "outputs": [],
      "metadata": {}
    },
    {
      "cell_type": "code",
      "source": [
        "// await findConfig();"
      ],
      "outputs": [],
      "metadata": {}
    },
    {
      "cell_type": "code",
      "source": [
        "//| export\n",
        "\n",
        "export const getTestConfig = (baseDir: string): Config =>\n",
        "  configSchema.parse({\n",
        "    configPath: path.resolve(baseDir, \"jurassic.json\"),\n",
        "    nbsPath: path.resolve(baseDir, \"nbs\"),\n",
        "    outputPath: path.resolve(baseDir, \"jurassic\"),\n",
        "    docsInputPath: path.resolve(baseDir, \"docs\"),\n",
        "    docsOutputPath: path.resolve(baseDir, \"_docs\"),\n",
        "    vitepress: {\n",
        "      title: \"Jurassic\",\n",
        "      description: \"Jurassic docs\",\n",
        "      base: \"/jurassic/\",\n",
        "      themeConfig: {\n",
        "        nav: [{ text: \"Home\", link: \"/\" }],\n",
        "        search: {\n",
        "          provider: \"local\",\n",
        "        },\n",
        "        sidebar: [],\n",
        "        socialLinks: [\n",
        "          { icon: \"github\", link: \"https://github.com/callmephilip/jurassic\" },\n",
        "        ],\n",
        "      },\n",
        "    },\n",
        "  });"
      ],
      "outputs": [],
      "metadata": {}
    },
    {
      "cell_type": "code",
      "source": [
        "// getTestConfig(\"../\");"
      ],
      "outputs": [],
      "metadata": {}
    },
    {
      "cell_type": "markdown",
      "source": [
        "Load and parse config."
      ],
      "metadata": {}
    },
    {
      "cell_type": "code",
      "source": [
        "//| export\n",
        "\n",
        "export const getConfig = async (): Promise<Config> => {\n",
        "  const cf = await findConfig();\n",
        "  const dcf = path.dirname(cf);\n",
        "  const c = configSchema.parse(\n",
        "    Object.assign({ configPath: cf }, JSON.parse(await Deno.readTextFile(cf))),\n",
        "  );\n",
        "  c.nbsPath = path.join(dcf, c.nbsPath);\n",
        "  c.outputPath = path.join(dcf, c.outputPath);\n",
        "  c.docsInputPath = path.join(dcf, c.docsInputPath);\n",
        "  c.docsOutputPath = path.join(dcf, c.docsOutputPath);\n",
        "  return c;\n",
        "};"
      ],
      "outputs": [],
      "metadata": {}
    }
  ],
  "nbformat": 4,
  "nbformat_minor": 2
}