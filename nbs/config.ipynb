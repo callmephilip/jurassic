{
 "cells": [
  {
   "cell_type": "markdown",
   "metadata": {},
   "source": [
    "# Configuration\n",
    "\n",
    "Project configuration is stored in `jurassic.json` file"
   ]
  },
  {
   "cell_type": "code",
   "execution_count": 1,
   "metadata": {},
   "outputs": [],
   "source": [
    "//| export\n",
    "\n",
    "import { z } from \"zod\";\n",
    "import path from \"node:path\";\n",
    "import { getNotebooksToProcess } from \"jurassic/utils.ts\";"
   ]
  },
  {
   "cell_type": "code",
   "execution_count": 2,
   "metadata": {},
   "outputs": [],
   "source": [
    "//| export\n",
    "\n",
    "const configSchema: z.Schema = z.object({\n",
    "  configPath: z.string(),\n",
    "  nbsPath: z.string().default(\".\"),\n",
    "  outputPath: z.string().default(\".\"),\n",
    "  docsInputPath: z.string().default(\".\"),\n",
    "  docsOutputPath: z.string().default(\".\"),\n",
    "  vitepress: z.object({\n",
    "    title: z.string(),\n",
    "    description: z.string(),\n",
    "    base: z.string(),\n",
    "    cleanUrls: z.boolean().default(true),\n",
    "    themeConfig: z.object({\n",
    "      nav: z.array(\n",
    "        z.object({\n",
    "          text: z.string(),\n",
    "          link: z.string(),\n",
    "        }),\n",
    "      ),\n",
    "      search: z.object({\n",
    "        provider: z.string(),\n",
    "      }),\n",
    "      sidebar: z.array(\n",
    "        z.object({\n",
    "          text: z.string(),\n",
    "          items: z.array(\n",
    "            z.object({\n",
    "              text: z.string(),\n",
    "              link: z.string(),\n",
    "            }),\n",
    "          ),\n",
    "        }),\n",
    "      ),\n",
    "      socialLinks: z.array(\n",
    "        z.object({\n",
    "          icon: z.string(),\n",
    "          link: z.string(),\n",
    "        }),\n",
    "      ),\n",
    "    }),\n",
    "  }),\n",
    "}).transform((data) => {\n",
    "  return Object.assign(data, {\n",
    "    notebooks: getNotebooksToProcess(\".\", data.nbsPath),\n",
    "  });\n",
    "});\n",
    "\n",
    "export type Config = z.infer<typeof configSchema>;"
   ]
  },
  {
   "cell_type": "markdown",
   "metadata": {},
   "source": [
    "🕵️‍♀️ Looking for config. Start from `cwd` and keep going up if needed looking\n",
    "for `jurassic.json`. When running notebooks, it seems like `cwd` points to\n",
    "notebook's directory (at least when running in VS Code). Hence this extra\n",
    "gymnastics, just to be on the safe side. Notice `d` (depth) and `maxD` (max\n",
    "depth) to make sure things don't get out of control"
   ]
  },
  {
   "cell_type": "code",
   "execution_count": 3,
   "metadata": {},
   "outputs": [],
   "source": [
    "//| export\n",
    "\n",
    "const findConfig = async (\n",
    "  dir: string = Deno.cwd(),\n",
    "  d = 0,\n",
    "  config = \"jurassic.json\",\n",
    "  maxD = 10,\n",
    "): Promise<string> => {\n",
    "  if (d >= maxD) throw new Error(\"max depth reached\");\n",
    "\n",
    "  try {\n",
    "    const f = path.join(dir, config);\n",
    "    await Deno.lstat(f);\n",
    "    return f;\n",
    "  } catch {\n",
    "    return findConfig(path.join(dir, \"../\"), d + 1);\n",
    "  }\n",
    "};"
   ]
  },
  {
   "cell_type": "code",
   "execution_count": 4,
   "metadata": {},
   "outputs": [
    {
     "data": {
      "text/plain": [
       "\u001b[32m\"/Users/philip/projects/jurassic/jurassic.json\"\u001b[39m"
      ]
     },
     "execution_count": 4,
     "metadata": {},
     "output_type": "execute_result"
    }
   ],
   "source": [
    "await findConfig();"
   ]
  },
  {
   "cell_type": "code",
   "execution_count": 5,
   "metadata": {},
   "outputs": [],
   "source": [
    "//| export\n",
    "\n",
    "export const getTestConfig = (baseDir: string): Config =>\n",
    "  configSchema.parse({\n",
    "    configPath: path.resolve(baseDir, \"jurassic.json\"),\n",
    "    nbsPath: path.resolve(baseDir, \"nbs\"),\n",
    "    outputPath: path.resolve(baseDir, \"jurassic\"),\n",
    "    docsInputPath: path.resolve(baseDir, \"docs\"),\n",
    "    docsOutputPath: path.resolve(baseDir, \"_docs\"),\n",
    "    vitepress: {\n",
    "      title: \"Jurassic\",\n",
    "      description: \"Jurassic docs\",\n",
    "      base: \"/jurassic/\",\n",
    "      themeConfig: {\n",
    "        nav: [{ text: \"Home\", link: \"/\" }],\n",
    "        search: {\n",
    "          provider: \"local\",\n",
    "        },\n",
    "        sidebar: [],\n",
    "        socialLinks: [\n",
    "          { icon: \"github\", link: \"https://github.com/callmephilip/jurassic\" },\n",
    "        ],\n",
    "      },\n",
    "    },\n",
    "  });"
   ]
  },
  {
   "cell_type": "code",
   "execution_count": 6,
   "metadata": {},
   "outputs": [
    {
     "data": {
      "text/plain": [
       "{\n",
       "  configPath: \u001b[32m\"/Users/philip/projects/jurassic/jurassic.json\"\u001b[39m,\n",
       "  nbsPath: \u001b[32m\"/Users/philip/projects/jurassic/nbs\"\u001b[39m,\n",
       "  outputPath: \u001b[32m\"/Users/philip/projects/jurassic/jurassic\"\u001b[39m,\n",
       "  docsInputPath: \u001b[32m\"/Users/philip/projects/jurassic/docs\"\u001b[39m,\n",
       "  docsOutputPath: \u001b[32m\"/Users/philip/projects/jurassic/_docs\"\u001b[39m,\n",
       "  vitepress: {\n",
       "    title: \u001b[32m\"Jurassic\"\u001b[39m,\n",
       "    description: \u001b[32m\"Jurassic docs\"\u001b[39m,\n",
       "    base: \u001b[32m\"/jurassic/\"\u001b[39m,\n",
       "    cleanUrls: \u001b[33mtrue\u001b[39m,\n",
       "    themeConfig: {\n",
       "      nav: [ { text: \u001b[32m\"Home\"\u001b[39m, link: \u001b[32m\"/\"\u001b[39m } ],\n",
       "      search: { provider: \u001b[32m\"local\"\u001b[39m },\n",
       "      sidebar: [],\n",
       "      socialLinks: [\n",
       "        {\n",
       "          icon: \u001b[32m\"github\"\u001b[39m,\n",
       "          link: \u001b[32m\"https://github.com/callmephilip/jurassic\"\u001b[39m\n",
       "        }\n",
       "      ]\n",
       "    }\n",
       "  },\n",
       "  notebooks: [\n",
       "    \u001b[32m\"utils.ipynb\"\u001b[39m,\n",
       "    \u001b[32m\"submodule/hello.ipynb\"\u001b[39m,\n",
       "    \u001b[32m\"docs.ipynb\"\u001b[39m,\n",
       "    \u001b[32m\"notebooks.ipynb\"\u001b[39m,\n",
       "    \u001b[32m\"config.ipynb\"\u001b[39m,\n",
       "    \u001b[32m\"export.ipynb\"\u001b[39m\n",
       "  ]\n",
       "}"
      ]
     },
     "execution_count": 6,
     "metadata": {},
     "output_type": "execute_result"
    }
   ],
   "source": [
    "getTestConfig(\"../\");"
   ]
  },
  {
   "cell_type": "markdown",
   "metadata": {},
   "source": [
    "Load and parse config."
   ]
  },
  {
   "cell_type": "code",
   "execution_count": 7,
   "metadata": {},
   "outputs": [],
   "source": [
    "//| export\n",
    "\n",
    "export const getConfig = async (): Promise<Config> => {\n",
    "  const cf = await findConfig();\n",
    "  const dcf = path.dirname(cf);\n",
    "  const c = configSchema.parse(\n",
    "    Object.assign({ configPath: cf }, JSON.parse(await Deno.readTextFile(cf))),\n",
    "  );\n",
    "  c.nbsPath = path.join(dcf, c.nbsPath);\n",
    "  c.outputPath = path.join(dcf, c.outputPath);\n",
    "  c.docsInputPath = path.join(dcf, c.docsInputPath);\n",
    "  c.docsOutputPath = path.join(dcf, c.docsOutputPath);\n",
    "  return c;\n",
    "};"
   ]
  }
 ],
 "metadata": {
  "kernelspec": {
   "display_name": "Deno",
   "language": "typescript",
   "name": "deno"
  },
  "language_info": {
   "codemirror_mode": "typescript",
   "file_extension": ".ts",
   "mimetype": "text/x.typescript",
   "name": "typescript",
   "nbconvert_exporter": "script",
   "pygments_lexer": "typescript",
   "version": "5.6.2"
  }
 },
 "nbformat": 4,
 "nbformat_minor": 2
}
