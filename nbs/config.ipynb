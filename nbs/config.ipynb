{
 "cells": [
  {
   "cell_type": "markdown",
   "metadata": {},
   "source": [
    "# Configuration\n",
    "\n",
    "Project configuration is stored in `jurassic.json` file"
   ]
  },
  {
   "cell_type": "code",
   "execution_count": 1,
   "metadata": {},
   "outputs": [],
   "source": [
    "//| export\n",
    "\n",
    "import { z } from \"zod\";\n",
    "import path from \"node:path\";"
   ]
  },
  {
   "cell_type": "code",
   "execution_count": 2,
   "metadata": {},
   "outputs": [],
   "source": [
    "//| export\n",
    "\n",
    "const configSchema: z.Schema = z.object({\n",
    "  configPath: z.string(),\n",
    "  nbsPath: z.string().default(\".\"),\n",
    "  outputPath: z.string().default(\".\"),\n",
    "  docsPath: z.string().default(\".\"),\n",
    "});\n",
    "\n",
    "export type Config = z.infer<typeof configSchema>;"
   ]
  },
  {
   "cell_type": "markdown",
   "metadata": {},
   "source": [
    "🕵️‍♀️ Looking for config. Start from `cwd` and keep going up if needed looking\n",
    "for `jurassic.json`. When running notebooks, it seems like `cwd` points to\n",
    "notebook's directory (at least when running in VS Code). Hence this extra\n",
    "gymnastics, just to be on the safe side. Notice `d` (depth) and `maxD` (max\n",
    "depth) to make sure things don't get out of control"
   ]
  },
  {
   "cell_type": "code",
   "execution_count": 3,
   "metadata": {},
   "outputs": [],
   "source": [
    "//| export\n",
    "\n",
    "const findConfig = async (\n",
    "  dir: string = Deno.cwd(),\n",
    "  d = 0,\n",
    "  config = \"jurassic.json\",\n",
    "  maxD = 10,\n",
    "): Promise<string> => {\n",
    "  if (d >= maxD) throw new Error(\"max depth reached\");\n",
    "\n",
    "  try {\n",
    "    const f = path.join(dir, config);\n",
    "    await Deno.lstat(f);\n",
    "    return f;\n",
    "  } catch {\n",
    "    return findConfig(path.join(dir, \"../\"), d + 1);\n",
    "  }\n",
    "};"
   ]
  },
  {
   "cell_type": "code",
   "execution_count": 4,
   "metadata": {},
   "outputs": [
    {
     "data": {
      "text/plain": [
       "\u001b[32m\"/Users/philip/projects/jurassic/jurassic.json\"\u001b[39m"
      ]
     },
     "execution_count": 4,
     "metadata": {},
     "output_type": "execute_result"
    }
   ],
   "source": [
    "await findConfig();"
   ]
  },
  {
   "cell_type": "code",
   "execution_count": 5,
   "metadata": {},
   "outputs": [],
   "source": [
    "//| export\n",
    "\n",
    "export const getTestConfig = (baseDir: string): Config =>\n",
    "  configSchema.parse({\n",
    "    configPath: path.resolve(baseDir, \"jurassic.json\"),\n",
    "    nbsPath: path.resolve(baseDir, \"nbs\"),\n",
    "    outputPath: path.resolve(baseDir, \"jurassic\"),\n",
    "    docsPath: path.resolve(baseDir, \"docs\"),\n",
    "  });"
   ]
  },
  {
   "cell_type": "code",
   "execution_count": 6,
   "metadata": {},
   "outputs": [
    {
     "data": {
      "text/plain": [
       "{\n",
       "  configPath: \u001b[32m\"/Users/philip/projects/jurassic/nbs/jurassic.json\"\u001b[39m,\n",
       "  nbsPath: \u001b[32m\"/Users/philip/projects/jurassic/nbs/nbs\"\u001b[39m,\n",
       "  outputPath: \u001b[32m\"/Users/philip/projects/jurassic/nbs/jurassic\"\u001b[39m,\n",
       "  docsPath: \u001b[32m\"/Users/philip/projects/jurassic/nbs/docs\"\u001b[39m\n",
       "}"
      ]
     },
     "execution_count": 6,
     "metadata": {},
     "output_type": "execute_result"
    }
   ],
   "source": [
    "getTestConfig(\"./\");"
   ]
  },
  {
   "cell_type": "markdown",
   "metadata": {},
   "source": [
    "Load and parse config."
   ]
  },
  {
   "cell_type": "code",
   "execution_count": 7,
   "metadata": {},
   "outputs": [],
   "source": [
    "//| export\n",
    "\n",
    "export const getConfig = async (): Promise<Config> => {\n",
    "  const cf = await findConfig();\n",
    "  const dcf = path.dirname(cf);\n",
    "  const c = configSchema.parse(\n",
    "    Object.assign({ configPath: cf }, JSON.parse(await Deno.readTextFile(cf))),\n",
    "  );\n",
    "  c.nbsPath = path.join(dcf, c.nbsPath);\n",
    "  c.outputPath = path.join(dcf, c.outputPath);\n",
    "  c.docsPath = path.join(dcf, c.docsPath);\n",
    "  return c;\n",
    "};"
   ]
  }
 ],
 "metadata": {
  "kernelspec": {
   "display_name": "Deno",
   "language": "typescript",
   "name": "deno"
  },
  "language_info": {
   "codemirror_mode": "typescript",
   "file_extension": ".ts",
   "mimetype": "text/x.typescript",
   "name": "typescript",
   "nbconvert_exporter": "script",
   "pygments_lexer": "typescript",
   "version": "5.6.2"
  }
 },
 "nbformat": 4,
 "nbformat_minor": 2
}
