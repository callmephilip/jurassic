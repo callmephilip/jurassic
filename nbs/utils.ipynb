{
 "cells": [
  {
   "cell_type": "markdown",
   "metadata": {},
   "source": [
    "## Helpers\n",
    "\n",
    "Random assorted helpers"
   ]
  },
  {
   "cell_type": "code",
   "execution_count": 3,
   "metadata": {},
   "outputs": [],
   "source": [
    "//| export\n",
    "\n",
    "import path from \"node:path\";"
   ]
  },
  {
   "cell_type": "code",
   "execution_count": 4,
   "metadata": {},
   "outputs": [],
   "source": [
    "//| export\n",
    "\n",
    "// create markdown representation of the directory listing files and subdirectories\n",
    "export const dirListing = async (dir: string, d = 0): Promise<string> => {\n",
    "  if (d > 10) {\n",
    "    return \"\";\n",
    "  }\n",
    "\n",
    "  let md = \"\";\n",
    "  for await (const f of Deno.readDir(dir)) {\n",
    "    md += `${\"  \".repeat(d)}- ${f.name}\\n`;\n",
    "    if (f.isDirectory) {\n",
    "      md += await dirListing(path.join(dir, f.name), d + 1);\n",
    "    }\n",
    "  }\n",
    "  return md;\n",
    "};"
   ]
  },
  {
   "cell_type": "code",
   "execution_count": 5,
   "metadata": {},
   "outputs": [
    {
     "data": {
      "text/markdown": [
       "```md\n",
       "- utils.ipynb\n",
       "- submodule\n",
       "  - hello.ipynb\n",
       "- docs.ipynb\n",
       "- notebooks.ipynb\n",
       "- config.ipynb\n",
       "- export.ipynb\n",
       "\n",
       "```"
      ]
     },
     "metadata": {},
     "output_type": "display_data"
    }
   ],
   "source": [
    "await Deno.jupyter.display({\n",
    "  \"text/markdown\": \"```md\\n\" + (await dirListing(\"./\")) + \"\\n```\",\n",
    "}, { raw: true });"
   ]
  }
 ],
 "metadata": {
  "kernelspec": {
   "display_name": "Deno",
   "language": "typescript",
   "name": "deno"
  },
  "language_info": {
   "codemirror_mode": "typescript",
   "file_extension": ".ts",
   "mimetype": "text/x.typescript",
   "name": "typescript",
   "nbconvert_exporter": "script",
   "pygments_lexer": "typescript",
   "version": "5.6.2"
  }
 },
 "nbformat": 4,
 "nbformat_minor": 2
}
