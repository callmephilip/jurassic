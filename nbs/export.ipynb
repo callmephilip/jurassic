{
 "cells": [
  {
   "cell_type": "markdown",
   "metadata": {},
   "source": [
    "# Export\n",
    "\n",
    "Parse notebook and extract exportable code cells into corresponding TS modules (directives shamelessly copied from `nbdev`)"
   ]
  },
  {
   "cell_type": "code",
   "execution_count": 42,
   "metadata": {},
   "outputs": [],
   "source": [
    "//| export\n",
    "\n",
    "import { z } from \"npm:zod@^3.23.8\";\n",
    "import path from \"node:path\";"
   ]
  },
  {
   "cell_type": "markdown",
   "metadata": {},
   "source": [
    "## Configuration\n",
    "\n",
    "`jurassic.json` contains project configuration"
   ]
  },
  {
   "cell_type": "code",
   "execution_count": 43,
   "metadata": {},
   "outputs": [],
   "source": [
    "//| export\n",
    "\n",
    "const configSchema: z.Schema = z.object({\n",
    "  configPath: z.string(),\n",
    "  nbsPath: z.string().default(\".\"),\n",
    "  outputPath: z.string().default(\".\"),\n",
    "});\n",
    "\n",
    "export type Config = z.infer<typeof configSchema>;"
   ]
  },
  {
   "cell_type": "markdown",
   "metadata": {},
   "source": [
    "🕵️‍♀️ Looking for config. Start from `cwd` and keep going up if needed looking for `jurassic.json`. When running notebooks, it seems like `cwd` points to notebook's directory (at least when running in VS Code). Hence this extra gymnastics, just to be on the safe side. Notice `d` (depth) and `maxD` (max depth) to make sure things don't get out of control "
   ]
  },
  {
   "cell_type": "code",
   "execution_count": 44,
   "metadata": {},
   "outputs": [],
   "source": [
    "//| export\n",
    "\n",
    "const findConfig = async ( dir: string = Deno.cwd(), d = 0, config = \"jurassic.json\", maxD = 10): Promise<string> => {\n",
    "  if (d >= maxD) { throw new Error(\"max depth reached\"); }\n",
    "\n",
    "  try {\n",
    "    const f = path.join(dir, config);\n",
    "    await Deno.lstat(f);\n",
    "    return f;\n",
    "  } catch {\n",
    "    return findConfig(path.join(dir, \"../\"), d + 1);\n",
    "  }\n",
    "};"
   ]
  },
  {
   "cell_type": "code",
   "execution_count": 45,
   "metadata": {},
   "outputs": [
    {
     "data": {
      "text/plain": [
       "\u001b[32m\"/Users/philip/projects/jurassic/jurassic.json\"\u001b[39m"
      ]
     },
     "execution_count": 45,
     "metadata": {},
     "output_type": "execute_result"
    }
   ],
   "source": [
    "await findConfig();"
   ]
  },
  {
   "cell_type": "markdown",
   "metadata": {},
   "source": [
    "Load and parse config. "
   ]
  },
  {
   "cell_type": "code",
   "execution_count": 46,
   "metadata": {},
   "outputs": [],
   "source": [
    "//| export\n",
    "\n",
    "export const getConfig = async (): Promise<Config> => {\n",
    "  const cf = await findConfig();\n",
    "  const dcf = path.dirname(cf);\n",
    "  const c = configSchema.parse(Object.assign({ configPath: cf }, JSON.parse(await Deno.readTextFile(cf))));\n",
    "  c.nbsPath = path.join(dcf, c.nbsPath);\n",
    "  c.outputPath = path.join(dcf, c.outputPath);\n",
    "  return c;\n",
    "};"
   ]
  },
  {
   "cell_type": "code",
   "execution_count": 47,
   "metadata": {},
   "outputs": [
    {
     "data": {
      "text/plain": [
       "{\n",
       "  configPath: \u001b[32m\"/Users/philip/projects/jurassic/jurassic.json\"\u001b[39m,\n",
       "  nbsPath: \u001b[32m\"/Users/philip/projects/jurassic/nbs\"\u001b[39m,\n",
       "  outputPath: \u001b[32m\"/Users/philip/projects/jurassic/jurassic\"\u001b[39m\n",
       "}"
      ]
     },
     "execution_count": 47,
     "metadata": {},
     "output_type": "execute_result"
    }
   ],
   "source": [
    "await getConfig();"
   ]
  },
  {
   "cell_type": "markdown",
   "metadata": {},
   "source": [
    "Test helper to get a test config for a base directory. This is used internally to test setup in a temp directory."
   ]
  },
  {
   "cell_type": "code",
   "execution_count": 48,
   "metadata": {},
   "outputs": [],
   "source": [
    "const getTestConfig = (baseDir: string): Config =>\n",
    "  configSchema.parse({\n",
    "    configPath: path.resolve(baseDir, \"jurassic.json\"),\n",
    "    nbsPath: path.join(baseDir, \"nbs\"),\n",
    "    outputPath: path.join(baseDir, \"jurassic\"),\n",
    "  });"
   ]
  },
  {
   "cell_type": "code",
   "execution_count": 49,
   "metadata": {},
   "outputs": [
    {
     "data": {
      "text/plain": [
       "{\n",
       "  configPath: \u001b[32m\"/Users/philip/projects/jurassic/nbs/jurassic.json\"\u001b[39m,\n",
       "  nbsPath: \u001b[32m\"nbs\"\u001b[39m,\n",
       "  outputPath: \u001b[32m\"jurassic\"\u001b[39m\n",
       "}"
      ]
     },
     "execution_count": 49,
     "metadata": {},
     "output_type": "execute_result"
    }
   ],
   "source": [
    "getTestConfig(\"./\")"
   ]
  },
  {
   "cell_type": "markdown",
   "metadata": {},
   "source": [
    "## Parse and process notebooks\n",
    "\n",
    "Home made notebook parser + cell processor"
   ]
  },
  {
   "cell_type": "code",
   "execution_count": 50,
   "metadata": {},
   "outputs": [],
   "source": [
    "//| export\n",
    "\n",
    "const cellSchema = z.object({ cell_type: z.enum([\"code\", \"markdown\"]), source: z.array(z.string())  });\n",
    "const nbSchema = z.object({ cells: z.array(cellSchema) });\n",
    "\n",
    "type Cell = z.infer<typeof cellSchema>;\n",
    "type Nb = z.infer<typeof nbSchema>;"
   ]
  },
  {
   "cell_type": "markdown",
   "metadata": {},
   "source": [
    "Helpers for determining if a given line in a cell is a directive. Directives look like this:\n",
    "\n",
    "```ts\n",
    "//| export\n",
    "```"
   ]
  },
  {
   "cell_type": "code",
   "execution_count": 51,
   "metadata": {},
   "outputs": [],
   "source": [
    "//| export\n",
    "\n",
    "const isDirective = (ln: string): boolean => ln.replaceAll(\" \", \"\").startsWith(\"//|\");\n"
   ]
  },
  {
   "cell_type": "code",
   "execution_count": 52,
   "metadata": {},
   "outputs": [
    {
     "name": "stdout",
     "output_type": "stream",
     "text": [
      "isDirective ... \u001b[0m\u001b[32mok\u001b[0m \u001b[0m\u001b[38;5;245m(0ms)\u001b[0m\n",
      "\n",
      "\u001b[0m\u001b[32mok\u001b[0m | 1 passed | 0 failed \u001b[0m\u001b[38;5;245m(0ms)\u001b[0m\n"
     ]
    }
   ],
   "source": [
    "import { assertEquals } from \"jsr:@std/assert\";\n",
    "\n",
    "Deno.test(\"isDirective\", () => {\n",
    "  assertEquals(isDirective(\"//| export\"), true);\n",
    "  assertEquals(isDirective(\"const c = 1;\"), false);\n",
    "  assertEquals(isDirective(\"// | export\"), true);\n",
    "  assertEquals(isDirective(\"// |    export\"), true);\n",
    "});\n"
   ]
  },
  {
   "cell_type": "markdown",
   "metadata": {},
   "source": [
    "Determine if a given cell is exportable. \"Exportable\" means that its contents will end up in corresponding ts module."
   ]
  },
  {
   "cell_type": "code",
   "execution_count": 53,
   "metadata": {},
   "outputs": [],
   "source": [
    "//| export\n",
    "\n",
    "const isCellExportable = (cell: Cell): boolean =>\n",
    "  cell.cell_type === \"code\" &&\n",
    "  cell.source.length > 0 &&\n",
    "  isDirective(cell.source[0]) &&\n",
    "  cell.source[0].includes(\"export\");"
   ]
  },
  {
   "cell_type": "code",
   "execution_count": 54,
   "metadata": {},
   "outputs": [
    {
     "name": "stdout",
     "output_type": "stream",
     "text": [
      "isCellExportable ... \u001b[0m\u001b[32mok\u001b[0m \u001b[0m\u001b[38;5;245m(0ms)\u001b[0m\n",
      "\n",
      "\u001b[0m\u001b[32mok\u001b[0m | 1 passed | 0 failed \u001b[0m\u001b[38;5;245m(0ms)\u001b[0m\n"
     ]
    }
   ],
   "source": [
    "import { assertEquals } from \"jsr:@std/assert\";\n",
    "\n",
    "Deno.test(\"isCellExportable\", () => {\n",
    "  assertEquals(isCellExportable({ cell_type: \"code\", source: [\"//| export\\n\"] }), true);\n",
    "  assertEquals(isCellExportable({ cell_type: \"code\", source: [\"const c = 1;\"] }), false);\n",
    "  assertEquals(isCellExportable({ cell_type: \"code\", source: [\"//|export\\n\"] }), true);\n",
    "  assertEquals(isCellExportable({ cell_type: \"markdown\", source: [\"# showing //| export\\n\"] }), false);\n",
    "  assertEquals(isCellExportable({ cell_type: \"code\", source: [\"//|export\"] }), true);\n",
    "});\n"
   ]
  },
  {
   "cell_type": "markdown",
   "metadata": {},
   "source": [
    "Process notebook - transfer exportable code from cells into ts module"
   ]
  },
  {
   "cell_type": "code",
   "execution_count": 55,
   "metadata": {},
   "outputs": [],
   "source": [
    "//| export\n",
    "\n",
    "const processNb = async (nbPath: string): Promise<string> => {\n",
    "  const nb = nbSchema.parse(JSON.parse(await Deno.readTextFile(nbPath)));\n",
    "  // we only need exportable cells\n",
    "  const exportCells = nb.cells.filter((cell) => isCellExportable(cell));\n",
    "  return exportCells.reduce(\n",
    "    // get rid of directives, we want code only\n",
    "    (acc, cell) => acc + cell.source.filter((s) => !isDirective(s)).join(\"\"),\n",
    "    `//source ${nbPath}\\n\\n`\n",
    "  );\n",
    "}"
   ]
  },
  {
   "cell_type": "code",
   "execution_count": 56,
   "metadata": {},
   "outputs": [
    {
     "data": {
      "text/markdown": [
       "```ts\n",
       "\n",
       "//source ./export.ipynb\n",
       "\n",
       "\n",
       "import { z } from \"npm:zod@^3.23.8\";\n",
       "import path from \"node:path\";\n",
       "const configSchema: z.Schema = z.object({\n",
       "  configPath: z.string(),\n",
       "  nbsPath: z.string().default(\".\"),\n",
       "  outputPath: z.string().default(\".\"),\n",
       "});\n",
       "\n",
       "export type Config = z.infer<typeof configSchema>;\n",
       "const findConfig = async ( dir: string = Deno.cwd(), d = 0, config = \"jurassic.json\", maxD = 10): Promise<string> => {\n",
       "  if (d >= maxD) { throw new Error(\"max depth reached\"); }\n",
       "\n",
       "  try {\n",
       "    const f = path.join(dir, config);\n",
       "    await Deno.lstat(f);\n",
       "    return f;\n",
       "  } catch {\n",
       "    return findConfig(path.join(dir, \"../\"), d + 1);\n",
       "  }\n",
       "};\n",
       "export const getConfig = async (): Promise<Config> => {\n",
       "  const cf = await findConfig();\n",
       "  const dcf = path.dirname(cf);\n",
       "  const c = configSchema.parse(Object.assign({ configPath: cf }, JSON.parse(await Deno.readTextFile(cf))));\n",
       "  c.nbsPath = path.join(dcf, c.nbsPath);\n",
       "  c.outputPath = path.join(dcf, c.outputPath);\n",
       "  return c;\n",
       "};\n",
       "const cellSchema = z.object({ cell_type: z.enum([\"code\", \"markdown\"]), source: z.array(z.string())  });\n",
       "const nbSchema = z.object({ cells: z.array(cellSchema) });\n",
       "\n",
       "type Cell = z.infer<typeof cellSchema>;\n",
       "type Nb = z.infer<typeof nbSchema>;\n",
       "const isDirective = (ln: string): boolean => ln.replaceAll(\" \", \"\").startsWith(\"//|\");\n",
       "\n",
       "const isCellExportable = (cell: Cell): boolean =>\n",
       "  cell.cell_type === \"code\" &&\n",
       "  cell.source.length > 0 &&\n",
       "  isDirective(cell.source[0]) &&\n",
       "  cell.source[0].includes(\"export\");\n",
       "const processNb = async (nbPath: string): Promise<string> => {\n",
       "  const nb = nbSchema.parse(JSON.parse(await Deno.readTextFile(nbPath)));\n",
       "  // we only need exportable cells\n",
       "  const exportCells = nb.cells.filter((cell) => isCellExportable(cell));\n",
       "  return exportCells.reduce(\n",
       "    // get rid of directives, we want code only\n",
       "    (acc, cell) => acc + cell.source.filter((s) => !isDirective(s)).join(\"\"),\n",
       "    `//source ${nbPath}\\n\\n`\n",
       "  );\n",
       "}\n",
       "export const exportNb = async (notebookPath: string, config: Config): Promise<void> => {\n",
       "  const fullPath = path.join(config.nbsPath, notebookPath);\n",
       "  const fileInfo = await Deno.stat(fullPath);\n",
       "  const notebooksToProcess: string[] = [];\n",
       "\n",
       "  if (fileInfo.isDirectory) {\n",
       "    // if target is a directory, let's go through all files/directories inside\n",
       "    for await (const file of await Deno.readDir(fullPath)) {\n",
       "      if (file.isDirectory) {\n",
       "        // got another directory? delegate to another exportNb\n",
       "        await exportNb(path.join(notebookPath, file.name), config);\n",
       "        continue;\n",
       "      }\n",
       "\n",
       "      // we are only interested in notebooks\n",
       "      if (!file.name.endsWith(\".ipynb\")) { continue; }\n",
       "\n",
       "      // relative path only, puhleeze\n",
       "      notebooksToProcess.push(\n",
       "        path.relative(config.nbsPath, path.join(fullPath, file.name))\n",
       "      );\n",
       "    }\n",
       "  }\n",
       "\n",
       "  // let's go through all notebooks and process them one by one\n",
       "  for (const notebook of notebooksToProcess) {\n",
       "    // output module is the same as the input notebook, but with .ts extension\n",
       "    const outputFile = notebook.replace(\".ipynb\", \".ts\");\n",
       "    // make sure we preserve subdirectories if any\n",
       "    const outputDir = path.join(config.outputPath, path.dirname(outputFile));\n",
       "    await Deno.mkdir(outputDir, { recursive: true });\n",
       "    await Deno.writeTextFile(\n",
       "      path.join(config.outputPath, outputFile),\n",
       "      await processNb(path.resolve(config.nbsPath, notebook))\n",
       "    );\n",
       "  }\n",
       "};\n",
       "\n",
       "// create markdown representation of the directory listing files and subdirectories\n",
       "export const dirListing = async (dir: string, d = 0): Promise<string> => {\n",
       "  if (d > 10) {\n",
       "    return \"\";\n",
       "  }\n",
       "\n",
       "  let md = \"\";\n",
       "  for await (const f of Deno.readDir(dir)) {\n",
       "    md += `${\"  \".repeat(d)}- ${f.name}\\n`;\n",
       "    if (f.isDirectory) {\n",
       "      md += await dirListing(path.join(dir, f.name), d + 1);\n",
       "    }\n",
       "  }\n",
       "  return md;\n",
       "};\n",
       "```"
      ]
     },
     "metadata": {},
     "output_type": "display_data"
    }
   ],
   "source": [
    "await Deno.jupyter.display(\n",
    "  {\n",
    "    \"text/markdown\": \"```ts\\n\\n\" + await processNb(\"./export.ipynb\") + \"\\n```\",\n",
    "  },\n",
    "  { raw: true }\n",
    ");\n"
   ]
  },
  {
   "cell_type": "markdown",
   "metadata": {},
   "source": [
    "Main export functionality. `exportNb` should work on both individual notebooks and directories containing notebooks and subdirectories containing more notebooks 🕳. `notebookPath` is relative to `config.nbsPath`"
   ]
  },
  {
   "cell_type": "code",
   "execution_count": 57,
   "metadata": {},
   "outputs": [],
   "source": [
    "// | export\n",
    "\n",
    "export const exportNb = async (notebookPath: string, config: Config): Promise<void> => {\n",
    "  const fullPath = path.join(config.nbsPath, notebookPath);\n",
    "  const fileInfo = await Deno.stat(fullPath);\n",
    "  const notebooksToProcess: string[] = [];\n",
    "\n",
    "  if (fileInfo.isDirectory) {\n",
    "    // if target is a directory, let's go through all files/directories inside\n",
    "    for await (const file of await Deno.readDir(fullPath)) {\n",
    "      if (file.isDirectory) {\n",
    "        // got another directory? delegate to another exportNb\n",
    "        await exportNb(path.join(notebookPath, file.name), config);\n",
    "        continue;\n",
    "      }\n",
    "\n",
    "      // we are only interested in notebooks\n",
    "      if (!file.name.endsWith(\".ipynb\")) { continue; }\n",
    "\n",
    "      // relative path only, puhleeze\n",
    "      notebooksToProcess.push(\n",
    "        path.relative(config.nbsPath, path.join(fullPath, file.name))\n",
    "      );\n",
    "    }\n",
    "  }\n",
    "\n",
    "  // let's go through all notebooks and process them one by one\n",
    "  for (const notebook of notebooksToProcess) {\n",
    "    // output module is the same as the input notebook, but with .ts extension\n",
    "    const outputFile = notebook.replace(\".ipynb\", \".ts\");\n",
    "    // make sure we preserve subdirectories if any\n",
    "    const outputDir = path.join(config.outputPath, path.dirname(outputFile));\n",
    "    await Deno.mkdir(outputDir, { recursive: true });\n",
    "    await Deno.writeTextFile(\n",
    "      path.join(config.outputPath, outputFile),\n",
    "      await processNb(path.resolve(config.nbsPath, notebook))\n",
    "    );\n",
    "  }\n",
    "};\n"
   ]
  },
  {
   "cell_type": "markdown",
   "metadata": {},
   "source": [
    "## Helpers\n",
    "\n",
    "Random assorted helpers"
   ]
  },
  {
   "cell_type": "code",
   "execution_count": 58,
   "metadata": {},
   "outputs": [],
   "source": [
    "//| export\n",
    "\n",
    "// create markdown representation of the directory listing files and subdirectories\n",
    "export const dirListing = async (dir: string, d = 0): Promise<string> => {\n",
    "  if (d > 10) {\n",
    "    return \"\";\n",
    "  }\n",
    "\n",
    "  let md = \"\";\n",
    "  for await (const f of Deno.readDir(dir)) {\n",
    "    md += `${\"  \".repeat(d)}- ${f.name}\\n`;\n",
    "    if (f.isDirectory) {\n",
    "      md += await dirListing(path.join(dir, f.name), d + 1);\n",
    "    }\n",
    "  }\n",
    "  return md;\n",
    "};"
   ]
  },
  {
   "cell_type": "code",
   "execution_count": 59,
   "metadata": {},
   "outputs": [
    {
     "data": {
      "text/markdown": [
       "```md\n",
       "- submodule\n",
       "  - hello.ipynb\n",
       "- export.ipynb\n",
       "\n",
       "```"
      ]
     },
     "metadata": {},
     "output_type": "display_data"
    }
   ],
   "source": [
    "await Deno.jupyter.display({ \"text/markdown\": \"```md\\n\" + (await dirListing(\"./\")) + \"\\n```\" }, { raw: true });\n"
   ]
  },
  {
   "cell_type": "markdown",
   "metadata": {},
   "source": [
    "## Tests\n",
    "\n",
    "Let's test export functionality"
   ]
  },
  {
   "cell_type": "code",
   "execution_count": 60,
   "metadata": {},
   "outputs": [
    {
     "name": "stdout",
     "output_type": "stream",
     "text": [
      "export ...\n",
      "  test export ..."
     ]
    },
    {
     "data": {
      "text/markdown": [
       "```md\n",
       "- nbs\n",
       "  - submodule\n",
       "    - hello.ipynb\n",
       "  - export.ipynb\n",
       "- jurassic\n",
       "  - submodule\n",
       "    - hello.ts\n",
       "  - export.ts\n",
       "\n",
       "```"
      ]
     },
     "metadata": {},
     "output_type": "display_data"
    },
    {
     "name": "stdout",
     "output_type": "stream",
     "text": [
      " \u001b[0m\u001b[32mok\u001b[0m \u001b[0m\u001b[38;5;245m(3ms)\u001b[0m\n",
      "export ... \u001b[0m\u001b[32mok\u001b[0m \u001b[0m\u001b[38;5;245m(4ms)\u001b[0m\n",
      "\n",
      "\u001b[0m\u001b[32mok\u001b[0m | 1 passed (1 step) | 0 failed \u001b[0m\u001b[38;5;245m(4ms)\u001b[0m\n"
     ]
    }
   ],
   "source": [
    "import { assert } from \"jsr:@std/assert\";\n",
    "\n",
    "Deno.test(\"export\", async (t) => {\n",
    "  // set things up, let's recreate mini project structure inside a temp dir\n",
    "  const td = await Deno.makeTempDir({});\n",
    "\n",
    "  // recreate nbs dire in temp dir and copy notebooks there\n",
    "  await Deno.mkdir(`${td}/nbs`), Deno.copyFileSync(\"./export.ipynb\", `${td}/nbs/export.ipynb`);\n",
    "  // recreate submodule directory and copy hello.ipynb to it\n",
    "  await Deno.mkdir(`${td}/nbs/submodule`), Deno.copyFileSync(\"./submodule/hello.ipynb\", `${td}/nbs/submodule/hello.ipynb`);\n",
    "\n",
    "  await t.step(\"test export\", async () => {\n",
    "    await exportNb(\"./\", getTestConfig(td));\n",
    "\n",
    "    // make sure output modules are created\n",
    "    const exportContent = await Deno.readTextFile(`${td}/jurassic/export.ts`);\n",
    "    const submoduleExportContent = await Deno.readTextFile(`${td}/jurassic/submodule/hello.ts`);\n",
    "\n",
    "    // spot check content inside the output modules\n",
    "    assert(exportContent.includes(\"export const exportNb\"));\n",
    "    assert(submoduleExportContent.includes(\"export const foo\"));\n",
    "\n",
    "    // pretty print temp directory structure\n",
    "    await Deno.jupyter.display({ \"text/markdown\": \"```md\\n\" + (await dirListing(td)) + \"\\n```\" }, { raw: true });\n",
    "  });\n",
    "});"
   ]
  },
  {
   "cell_type": "code",
   "execution_count": 61,
   "metadata": {},
   "outputs": [],
   "source": [
    "// run export on itself\n",
    "await exportNb(\".\", await getConfig());"
   ]
  }
 ],
 "metadata": {
  "kernelspec": {
   "display_name": "Deno",
   "language": "typescript",
   "name": "deno"
  },
  "language_info": {
   "codemirror_mode": "typescript",
   "file_extension": ".ts",
   "mimetype": "text/x.typescript",
   "name": "typescript",
   "nbconvert_exporter": "script",
   "pygments_lexer": "typescript",
   "version": "5.6.2"
  }
 },
 "nbformat": 4,
 "nbformat_minor": 2
}
