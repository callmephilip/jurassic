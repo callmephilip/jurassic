{
 "cells": [
  {
   "cell_type": "markdown",
   "metadata": {},
   "source": [
    "# Export\n",
    "\n",
    "Parse notebook and extract exportable code cells into corresponding TS modules\n",
    "(directives shamelessly copied from `nbdev`)"
   ]
  },
  {
   "cell_type": "code",
   "execution_count": 1,
   "metadata": {
    "execution": {
     "iopub.execute_input": "2024-12-16T12:31:22.572168Z",
     "iopub.status.busy": "2024-12-16T12:31:22.572141Z",
     "iopub.status.idle": "2024-12-16T12:31:22.696769Z",
     "shell.execute_reply": "2024-12-16T12:31:22.690514Z"
    }
   },
   "outputs": [],
   "source": [
    "//| export\n",
    "\n",
    "import path from \"node:path\";\n",
    "import { loadNb } from \"jurassic/notebooks.ts\";\n",
    "import { getNotebooksToProcess } from \"jurassic/utils.ts\";\n",
    "import type { Config } from \"jurassic/config.ts\";\n",
    "import type { Cell } from \"jurassic/notebooks.ts\";"
   ]
  },
  {
   "cell_type": "markdown",
   "metadata": {},
   "source": [
    "Helpers for determining if a given line in a cell is a directive. Directives\n",
    "look like this:\n",
    "\n",
    "```ts\n",
    "//| export\n",
    "```"
   ]
  },
  {
   "cell_type": "code",
   "execution_count": 2,
   "metadata": {
    "execution": {
     "iopub.execute_input": "2024-12-16T12:31:22.697750Z",
     "iopub.status.busy": "2024-12-16T12:31:22.697725Z",
     "iopub.status.idle": "2024-12-16T12:31:22.704698Z",
     "shell.execute_reply": "2024-12-16T12:31:22.698200Z"
    }
   },
   "outputs": [],
   "source": [
    "//| export\n",
    "\n",
    "const isDirective = (ln: string): boolean =>\n",
    "  ln.replaceAll(\" \", \"\").startsWith(\"//|\");"
   ]
  },
  {
   "cell_type": "code",
   "execution_count": 3,
   "metadata": {
    "execution": {
     "iopub.execute_input": "2024-12-16T12:31:22.706186Z",
     "iopub.status.busy": "2024-12-16T12:31:22.706162Z",
     "iopub.status.idle": "2024-12-16T12:31:22.722008Z",
     "shell.execute_reply": "2024-12-16T12:31:22.715154Z"
    }
   },
   "outputs": [
    {
     "name": "stdout",
     "output_type": "stream",
     "text": [
      "isDirective"
     ]
    },
    {
     "name": "stdout",
     "output_type": "stream",
     "text": [
      " ..."
     ]
    },
    {
     "name": "stdout",
     "output_type": "stream",
     "text": [
      " "
     ]
    },
    {
     "name": "stdout",
     "output_type": "stream",
     "text": [
      "\u001b[0m\u001b[32mok\u001b[0m"
     ]
    },
    {
     "name": "stdout",
     "output_type": "stream",
     "text": [
      " "
     ]
    },
    {
     "name": "stdout",
     "output_type": "stream",
     "text": [
      "\u001b[0m"
     ]
    },
    {
     "name": "stdout",
     "output_type": "stream",
     "text": [
      "\u001b[38;5;245m"
     ]
    },
    {
     "name": "stdout",
     "output_type": "stream",
     "text": [
      "(0ms)"
     ]
    },
    {
     "name": "stdout",
     "output_type": "stream",
     "text": [
      "\u001b[0m"
     ]
    },
    {
     "name": "stdout",
     "output_type": "stream",
     "text": [
      "\n"
     ]
    },
    {
     "name": "stdout",
     "output_type": "stream",
     "text": [
      "\n"
     ]
    },
    {
     "name": "stdout",
     "output_type": "stream",
     "text": [
      "\u001b[0m\u001b[32mok\u001b[0m"
     ]
    },
    {
     "name": "stdout",
     "output_type": "stream",
     "text": [
      " | "
     ]
    },
    {
     "name": "stdout",
     "output_type": "stream",
     "text": [
      "1 passed | 0 failed"
     ]
    },
    {
     "name": "stdout",
     "output_type": "stream",
     "text": [
      " "
     ]
    },
    {
     "name": "stdout",
     "output_type": "stream",
     "text": [
      "\u001b[0m"
     ]
    },
    {
     "name": "stdout",
     "output_type": "stream",
     "text": [
      "\u001b[38;5;245m"
     ]
    },
    {
     "name": "stdout",
     "output_type": "stream",
     "text": [
      "(0ms)"
     ]
    },
    {
     "name": "stdout",
     "output_type": "stream",
     "text": [
      "\u001b[0m"
     ]
    },
    {
     "name": "stdout",
     "output_type": "stream",
     "text": [
      "\n"
     ]
    }
   ],
   "source": [
    "import { assertEquals } from \"jsr:@std/assert\";\n",
    "\n",
    "Deno.test(\"isDirective\", () => {\n",
    "  assertEquals(isDirective(\"//| export\"), true);\n",
    "  assertEquals(isDirective(\"const c = 1;\"), false);\n",
    "  assertEquals(isDirective(\"// | export\"), true);\n",
    "  assertEquals(isDirective(\"// |    export\"), true);\n",
    "});\n"
   ]
  },
  {
   "cell_type": "markdown",
   "metadata": {},
   "source": [
    "Determine if a given cell is exportable. \"Exportable\" means that its contents\n",
    "will end up in corresponding ts module."
   ]
  },
  {
   "cell_type": "code",
   "execution_count": 4,
   "metadata": {
    "execution": {
     "iopub.execute_input": "2024-12-16T12:31:22.743137Z",
     "iopub.status.busy": "2024-12-16T12:31:22.743088Z",
     "iopub.status.idle": "2024-12-16T12:31:22.750442Z",
     "shell.execute_reply": "2024-12-16T12:31:22.743721Z"
    }
   },
   "outputs": [],
   "source": [
    "//| export\n",
    "\n",
    "const isCellExportable = (cell: Cell): boolean =>\n",
    "  cell.cell_type === \"code\" &&\n",
    "  cell.source.length > 0 &&\n",
    "  isDirective(cell.source[0]) &&\n",
    "  cell.source[0].includes(\"export\");"
   ]
  },
  {
   "cell_type": "code",
   "execution_count": 5,
   "metadata": {
    "execution": {
     "iopub.execute_input": "2024-12-16T12:31:22.751434Z",
     "iopub.status.busy": "2024-12-16T12:31:22.751409Z",
     "iopub.status.idle": "2024-12-16T12:31:22.759813Z",
     "shell.execute_reply": "2024-12-16T12:31:22.752965Z"
    }
   },
   "outputs": [
    {
     "name": "stdout",
     "output_type": "stream",
     "text": [
      "isCellExportable"
     ]
    },
    {
     "name": "stdout",
     "output_type": "stream",
     "text": [
      " ..."
     ]
    },
    {
     "name": "stdout",
     "output_type": "stream",
     "text": [
      " "
     ]
    },
    {
     "name": "stdout",
     "output_type": "stream",
     "text": [
      "\u001b[0m\u001b[32mok\u001b[0m"
     ]
    },
    {
     "name": "stdout",
     "output_type": "stream",
     "text": [
      " "
     ]
    },
    {
     "name": "stdout",
     "output_type": "stream",
     "text": [
      "\u001b[0m"
     ]
    },
    {
     "name": "stdout",
     "output_type": "stream",
     "text": [
      "\u001b[38;5;245m"
     ]
    },
    {
     "name": "stdout",
     "output_type": "stream",
     "text": [
      "(0ms)"
     ]
    },
    {
     "name": "stdout",
     "output_type": "stream",
     "text": [
      "\u001b[0m"
     ]
    },
    {
     "name": "stdout",
     "output_type": "stream",
     "text": [
      "\n"
     ]
    },
    {
     "name": "stdout",
     "output_type": "stream",
     "text": [
      "\n"
     ]
    },
    {
     "name": "stdout",
     "output_type": "stream",
     "text": [
      "\u001b[0m\u001b[32mok\u001b[0m"
     ]
    },
    {
     "name": "stdout",
     "output_type": "stream",
     "text": [
      " | "
     ]
    },
    {
     "name": "stdout",
     "output_type": "stream",
     "text": [
      "1 passed | 0 failed"
     ]
    },
    {
     "name": "stdout",
     "output_type": "stream",
     "text": [
      " "
     ]
    },
    {
     "name": "stdout",
     "output_type": "stream",
     "text": [
      "\u001b[0m"
     ]
    },
    {
     "name": "stdout",
     "output_type": "stream",
     "text": [
      "\u001b[38;5;245m"
     ]
    },
    {
     "name": "stdout",
     "output_type": "stream",
     "text": [
      "(0ms)"
     ]
    },
    {
     "name": "stdout",
     "output_type": "stream",
     "text": [
      "\u001b[0m"
     ]
    },
    {
     "name": "stdout",
     "output_type": "stream",
     "text": [
      "\n"
     ]
    }
   ],
   "source": [
    "import { assertEquals } from \"jsr:@std/assert\";\n",
    "\n",
    "Deno.test(\"isCellExportable\", () => {\n",
    "  assertEquals(\n",
    "    isCellExportable({ cell_type: \"code\", source: [\"//| export\\n\"] }),\n",
    "    true,\n",
    "  );\n",
    "  assertEquals(\n",
    "    isCellExportable({ cell_type: \"code\", source: [\"const c = 1;\"] }),\n",
    "    false,\n",
    "  );\n",
    "  assertEquals(\n",
    "    isCellExportable({ cell_type: \"code\", source: [\"//|export\\n\"] }),\n",
    "    true,\n",
    "  );\n",
    "  assertEquals(\n",
    "    isCellExportable({\n",
    "      cell_type: \"markdown\",\n",
    "      source: [\"# showing //| export\\n\"],\n",
    "    }),\n",
    "    false,\n",
    "  );\n",
    "  assertEquals(\n",
    "    isCellExportable({ cell_type: \"code\", source: [\"//|export\"] }),\n",
    "    true,\n",
    "  );\n",
    "});"
   ]
  },
  {
   "cell_type": "markdown",
   "metadata": {},
   "source": [
    "Process notebook - transfer exportable code from cells into ts module"
   ]
  },
  {
   "cell_type": "code",
   "execution_count": 6,
   "metadata": {
    "execution": {
     "iopub.execute_input": "2024-12-16T12:31:22.760953Z",
     "iopub.status.busy": "2024-12-16T12:31:22.760926Z",
     "iopub.status.idle": "2024-12-16T12:31:22.767839Z",
     "shell.execute_reply": "2024-12-16T12:31:22.761456Z"
    }
   },
   "outputs": [],
   "source": [
    "//| export\n",
    "\n",
    "const moduleHeader = (moduleName: string): string =>\n",
    "  `// 🦕 AUTOGENERATED! DO NOT EDIT! File to edit: ${moduleName}\\n\\n`;\n",
    "\n",
    "const processNb = async (\n",
    "  nbPath: string,\n",
    "  moduleName: string,\n",
    "): Promise<string> => {\n",
    "  const nb = await loadNb(nbPath);\n",
    "  // we only need exportable cells\n",
    "  const exportCells = nb.cells.filter((cell) => isCellExportable(cell));\n",
    "  return exportCells.reduce(\n",
    "    // get rid of directives, we want code only\n",
    "    (acc, cell) => acc + cell.source.filter((s) => !isDirective(s)).join(\"\"),\n",
    "    moduleHeader(moduleName),\n",
    "  );\n",
    "};"
   ]
  },
  {
   "cell_type": "code",
   "execution_count": 7,
   "metadata": {
    "execution": {
     "iopub.execute_input": "2024-12-16T12:31:22.768704Z",
     "iopub.status.busy": "2024-12-16T12:31:22.768672Z",
     "iopub.status.idle": "2024-12-16T12:31:22.777576Z",
     "shell.execute_reply": "2024-12-16T12:31:22.771411Z"
    }
   },
   "outputs": [
    {
     "data": {
      "text/markdown": [
       "```ts\n",
       "\n",
       "// 🦕 AUTOGENERATED! DO NOT EDIT! File to edit: export.ipynb\n",
       "\n",
       "\n",
       "import path from \"node:path\";\n",
       "import { loadNb } from \"jurassic/notebooks.ts\";\n",
       "import { getNotebooksToProcess } from \"jurassic/utils.ts\";\n",
       "import type { Config } from \"jurassic/config.ts\";\n",
       "import type { Cell } from \"jurassic/notebooks.ts\";\n",
       "const isDirective = (ln: string): boolean =>\n",
       "  ln.replaceAll(\" \", \"\").startsWith(\"//|\");\n",
       "const isCellExportable = (cell: Cell): boolean =>\n",
       "  cell.cell_type === \"code\" &&\n",
       "  cell.source.length > 0 &&\n",
       "  isDirective(cell.source[0]) &&\n",
       "  cell.source[0].includes(\"export\");\n",
       "const moduleHeader = (moduleName: string): string =>\n",
       "  `// 🦕 AUTOGENERATED! DO NOT EDIT! File to edit: ${moduleName}\\n\\n`;\n",
       "\n",
       "const processNb = async (\n",
       "  nbPath: string,\n",
       "  moduleName: string,\n",
       "): Promise<string> => {\n",
       "  const nb = await loadNb(nbPath);\n",
       "  // we only need exportable cells\n",
       "  const exportCells = nb.cells.filter((cell) => isCellExportable(cell));\n",
       "  return exportCells.reduce(\n",
       "    // get rid of directives, we want code only\n",
       "    (acc, cell) => acc + cell.source.filter((s) => !isDirective(s)).join(\"\"),\n",
       "    moduleHeader(moduleName),\n",
       "  );\n",
       "};\n",
       "export const exportNb = async (\n",
       "  notebookPath: string,\n",
       "  config: Config,\n",
       "): Promise<void> => {\n",
       "  const notebooksToProcess: string[] = getNotebooksToProcess(\n",
       "    notebookPath,\n",
       "    config.nbsPath,\n",
       "  );\n",
       "\n",
       "  try {\n",
       "    await Deno.stat(config.outputPath);\n",
       "    await Deno.remove(config.outputPath, { recursive: true });\n",
       "  } catch {\n",
       "    // noop\n",
       "  }\n",
       "\n",
       "  // let's go through all notebooks and process them one by one\n",
       "  for (const notebook of notebooksToProcess) {\n",
       "    // output module is the same as the input notebook, but with .ts extension\n",
       "    const outputFile = notebook.replace(\".ipynb\", \".ts\");\n",
       "    // make sure we preserve subdirectories if any\n",
       "    const outputDir = path.join(config.outputPath, path.dirname(outputFile));\n",
       "    await Deno.mkdir(outputDir, { recursive: true });\n",
       "    await Deno.writeTextFile(\n",
       "      path.join(config.outputPath, outputFile),\n",
       "      await processNb(path.resolve(config.nbsPath, notebook), notebook),\n",
       "    );\n",
       "  }\n",
       "};\n",
       "```"
      ]
     },
     "metadata": {},
     "output_type": "display_data"
    }
   ],
   "source": [
    "await Deno.jupyter.display(\n",
    "  {\n",
    "    \"text/markdown\": \"```ts\\n\\n\" +\n",
    "      (await processNb(path.resolve(\"./export.ipynb\"), \"export.ipynb\")) +\n",
    "      \"\\n```\",\n",
    "  },\n",
    "  { raw: true },\n",
    ");"
   ]
  },
  {
   "cell_type": "markdown",
   "metadata": {},
   "source": [
    "Main export functionality. `exportNb` should work on both individual notebooks\n",
    "and directories containing notebooks and subdirectories containing more\n",
    "notebooks 🕳. `notebookPath` is relative to `config.nbsPath`"
   ]
  },
  {
   "cell_type": "code",
   "execution_count": 8,
   "metadata": {
    "execution": {
     "iopub.execute_input": "2024-12-16T12:31:22.778338Z",
     "iopub.status.busy": "2024-12-16T12:31:22.778317Z",
     "iopub.status.idle": "2024-12-16T12:31:22.785165Z",
     "shell.execute_reply": "2024-12-16T12:31:22.779044Z"
    }
   },
   "outputs": [],
   "source": [
    "// | export\n",
    "\n",
    "export const exportNb = async (\n",
    "  notebookPath: string,\n",
    "  config: Config,\n",
    "): Promise<void> => {\n",
    "  const notebooksToProcess: string[] = getNotebooksToProcess(\n",
    "    notebookPath,\n",
    "    config.nbsPath,\n",
    "  );\n",
    "\n",
    "  try {\n",
    "    await Deno.stat(config.outputPath);\n",
    "    await Deno.remove(config.outputPath, { recursive: true });\n",
    "  } catch {\n",
    "    // noop\n",
    "  }\n",
    "\n",
    "  // let's go through all notebooks and process them one by one\n",
    "  for (const notebook of notebooksToProcess) {\n",
    "    // output module is the same as the input notebook, but with .ts extension\n",
    "    const outputFile = notebook.replace(\".ipynb\", \".ts\");\n",
    "    // make sure we preserve subdirectories if any\n",
    "    const outputDir = path.join(config.outputPath, path.dirname(outputFile));\n",
    "    await Deno.mkdir(outputDir, { recursive: true });\n",
    "    await Deno.writeTextFile(\n",
    "      path.join(config.outputPath, outputFile),\n",
    "      await processNb(path.resolve(config.nbsPath, notebook), notebook),\n",
    "    );\n",
    "  }\n",
    "};"
   ]
  },
  {
   "cell_type": "markdown",
   "metadata": {},
   "source": [
    "## Tests\n",
    "\n",
    "Let's test export functionality"
   ]
  },
  {
   "cell_type": "code",
   "execution_count": 9,
   "metadata": {
    "execution": {
     "iopub.execute_input": "2024-12-16T12:31:22.785876Z",
     "iopub.status.busy": "2024-12-16T12:31:22.785856Z",
     "iopub.status.idle": "2024-12-16T12:31:22.799823Z",
     "shell.execute_reply": "2024-12-16T12:31:22.793003Z"
    }
   },
   "outputs": [
    {
     "name": "stdout",
     "output_type": "stream",
     "text": [
      "export"
     ]
    },
    {
     "name": "stdout",
     "output_type": "stream",
     "text": [
      " ..."
     ]
    },
    {
     "name": "stdout",
     "output_type": "stream",
     "text": [
      "\n"
     ]
    },
    {
     "name": "stdout",
     "output_type": "stream",
     "text": [
      "  "
     ]
    },
    {
     "name": "stdout",
     "output_type": "stream",
     "text": [
      "test export"
     ]
    },
    {
     "name": "stdout",
     "output_type": "stream",
     "text": [
      " ..."
     ]
    },
    {
     "data": {
      "text/markdown": [
       "```md\n",
       "- nbs\n",
       "  - submodule\n",
       "    - hello.ipynb\n",
       "  - export.ipynb\n",
       "- jurassic\n",
       "  - submodule\n",
       "    - hello.ts\n",
       "  - export.ts\n",
       "\n",
       "```"
      ]
     },
     "metadata": {},
     "output_type": "display_data"
    },
    {
     "name": "stdout",
     "output_type": "stream",
     "text": [
      " "
     ]
    },
    {
     "name": "stdout",
     "output_type": "stream",
     "text": [
      "\u001b[0m\u001b[32mok\u001b[0m"
     ]
    },
    {
     "name": "stdout",
     "output_type": "stream",
     "text": [
      " "
     ]
    },
    {
     "name": "stdout",
     "output_type": "stream",
     "text": [
      "\u001b[0m"
     ]
    },
    {
     "name": "stdout",
     "output_type": "stream",
     "text": [
      "\u001b[38;5;245m"
     ]
    },
    {
     "name": "stdout",
     "output_type": "stream",
     "text": [
      "(3ms)"
     ]
    },
    {
     "name": "stdout",
     "output_type": "stream",
     "text": [
      "\u001b[0m"
     ]
    },
    {
     "name": "stdout",
     "output_type": "stream",
     "text": [
      "\n"
     ]
    },
    {
     "name": "stdout",
     "output_type": "stream",
     "text": [
      "export"
     ]
    },
    {
     "name": "stdout",
     "output_type": "stream",
     "text": [
      " ..."
     ]
    },
    {
     "name": "stdout",
     "output_type": "stream",
     "text": [
      " "
     ]
    },
    {
     "name": "stdout",
     "output_type": "stream",
     "text": [
      "\u001b[0m\u001b[32mok\u001b[0m"
     ]
    },
    {
     "name": "stdout",
     "output_type": "stream",
     "text": [
      " "
     ]
    },
    {
     "name": "stdout",
     "output_type": "stream",
     "text": [
      "\u001b[0m"
     ]
    },
    {
     "name": "stdout",
     "output_type": "stream",
     "text": [
      "\u001b[38;5;245m"
     ]
    },
    {
     "name": "stdout",
     "output_type": "stream",
     "text": [
      "(4ms)"
     ]
    },
    {
     "name": "stdout",
     "output_type": "stream",
     "text": [
      "\u001b[0m"
     ]
    },
    {
     "name": "stdout",
     "output_type": "stream",
     "text": [
      "\n"
     ]
    },
    {
     "name": "stdout",
     "output_type": "stream",
     "text": [
      "\n"
     ]
    },
    {
     "name": "stdout",
     "output_type": "stream",
     "text": [
      "\u001b[0m\u001b[32mok\u001b[0m"
     ]
    },
    {
     "name": "stdout",
     "output_type": "stream",
     "text": [
      " | "
     ]
    },
    {
     "name": "stdout",
     "output_type": "stream",
     "text": [
      "1 passed (1 step) | 0 failed"
     ]
    },
    {
     "name": "stdout",
     "output_type": "stream",
     "text": [
      " "
     ]
    },
    {
     "name": "stdout",
     "output_type": "stream",
     "text": [
      "\u001b[0m"
     ]
    },
    {
     "name": "stdout",
     "output_type": "stream",
     "text": [
      "\u001b[38;5;245m"
     ]
    },
    {
     "name": "stdout",
     "output_type": "stream",
     "text": [
      "(4ms)"
     ]
    },
    {
     "name": "stdout",
     "output_type": "stream",
     "text": [
      "\u001b[0m"
     ]
    },
    {
     "name": "stdout",
     "output_type": "stream",
     "text": [
      "\n"
     ]
    }
   ],
   "source": [
    "import { assert } from \"jsr:@std/assert\";\n",
    "import { getTestConfig } from \"jurassic/config.ts\";\n",
    "import { dirListing } from \"jurassic/utils.ts\";\n",
    "\n",
    "Deno.test(\"export\", async (t) => {\n",
    "  // set things up, let's recreate mini project structure inside a temp dir\n",
    "  const td = await Deno.makeTempDir({});\n",
    "\n",
    "  // recreate nbs dire in temp dir and copy notebooks there\n",
    "  await Deno.mkdir(`${td}/nbs`),\n",
    "    Deno.copyFileSync(\"./export.ipynb\", `${td}/nbs/export.ipynb`);\n",
    "  // recreate submodule directory and copy hello.ipynb to it\n",
    "  await Deno.mkdir(`${td}/nbs/submodule`),\n",
    "    Deno.copyFileSync(\n",
    "      \"./submodule/hello.ipynb\",\n",
    "      `${td}/nbs/submodule/hello.ipynb`,\n",
    "    );\n",
    "\n",
    "  await t.step(\"test export\", async () => {\n",
    "    await exportNb(\"./\", getTestConfig(td));\n",
    "\n",
    "    // make sure output modules are created\n",
    "    const exportContent = await Deno.readTextFile(`${td}/jurassic/export.ts`);\n",
    "    const submoduleExportContent = await Deno.readTextFile(\n",
    "      `${td}/jurassic/submodule/hello.ts`,\n",
    "    );\n",
    "\n",
    "    // spot check content inside the output modules\n",
    "    assert(exportContent.includes(\"export const exportNb\"));\n",
    "    assert(submoduleExportContent.includes(\"export const foo\"));\n",
    "\n",
    "    // pretty print temp directory structure\n",
    "    await Deno.jupyter.display({\n",
    "      \"text/markdown\": \"```md\\n\" + (await dirListing(td)) + \"\\n```\",\n",
    "    }, { raw: true });\n",
    "  });\n",
    "});"
   ]
  }
 ],
 "metadata": {
  "kernelspec": {
   "display_name": "Deno",
   "language": "typescript",
   "name": "deno"
  },
  "language_info": {
   "codemirror_mode": "typescript",
   "file_extension": ".ts",
   "mimetype": "text/x.typescript",
   "name": "typescript",
   "nbconvert_exporter": "script",
   "pygments_lexer": "typescript",
   "version": "5.6.2"
  }
 },
 "nbformat": 4,
 "nbformat_minor": 2
}
