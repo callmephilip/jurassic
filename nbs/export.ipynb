{
 "cells": [
  {
   "cell_type": "markdown",
   "metadata": {},
   "source": [
    "# Export\n",
    "\n",
    "Parse notebook and extract exportable code cells into corresponding TS modules (directives shamelessly copied from `nbdev`)"
   ]
  },
  {
   "cell_type": "code",
   "execution_count": 115,
   "metadata": {},
   "outputs": [],
   "source": [
    "//| export\n",
    "\n",
    "import { z } from \"npm:zod@^3.23.8\";\n",
    "import path from \"node:path\";\n"
   ]
  },
  {
   "cell_type": "markdown",
   "metadata": {},
   "source": [
    "## Configuration\n",
    "\n",
    "`jurassic.json` contains project configuration"
   ]
  },
  {
   "cell_type": "code",
   "execution_count": 116,
   "metadata": {},
   "outputs": [],
   "source": [
    "//| export\n",
    "\n",
    "const configSchema = z.object({\n",
    "  nbsPath: z.string().default(\".\"),\n",
    "  outputPath: z.string().default(\".\"),\n",
    "});\n",
    "\n",
    "export type Config = z.infer<typeof configSchema>;"
   ]
  },
  {
   "cell_type": "markdown",
   "metadata": {},
   "source": [
    "🕵️‍♀️ Looking for config. Start from `cwd` and keep going up if needed looking for `jurassic.json`. When running notebooks, it seems like `cwd` points to notebook's directory (at least when running in VS Code). Hence this extra gymnastics, just to be on the safe side. Notice `d` (depth) and `maxD` (max depth) to make sure things don't get out of control "
   ]
  },
  {
   "cell_type": "code",
   "execution_count": 117,
   "metadata": {},
   "outputs": [],
   "source": [
    "//| export\n",
    "\n",
    "const findConfig = async ( dir: string = Deno.cwd(), d = 0, config = \"jurassic.json\", maxD = 10): Promise<string> => {\n",
    "  if (d >= maxD) { throw new Error(\"max depth reached\"); }\n",
    "\n",
    "  try {\n",
    "    const f = path.join(dir, config);\n",
    "    await Deno.lstat(f);\n",
    "    return f;\n",
    "  } catch (e) {\n",
    "    return findConfig(path.join(dir, \"../\"), d + 1);\n",
    "  }\n",
    "};"
   ]
  },
  {
   "cell_type": "code",
   "execution_count": 118,
   "metadata": {},
   "outputs": [
    {
     "data": {
      "text/plain": [
       "\u001b[32m\"/Users/philip/projects/jurassic/jurassic.json\"\u001b[39m"
      ]
     },
     "execution_count": 118,
     "metadata": {},
     "output_type": "execute_result"
    }
   ],
   "source": [
    "await findConfig();"
   ]
  },
  {
   "cell_type": "markdown",
   "metadata": {},
   "source": [
    "Load and parse config. "
   ]
  },
  {
   "cell_type": "code",
   "execution_count": 119,
   "metadata": {},
   "outputs": [],
   "source": [
    "//| export\n",
    "\n",
    "export const getConfig = async (): Promise<Config> => {\n",
    "  const cf = await findConfig();\n",
    "  const dcf = path.dirname(cf);\n",
    "  const c = configSchema.parse(JSON.parse(await Deno.readTextFile(cf)));\n",
    "  c.nbsPath = path.join(dcf, c.nbsPath);\n",
    "  c.outputPath = path.join(dcf, c.outputPath);\n",
    "  return c;\n",
    "};"
   ]
  },
  {
   "cell_type": "markdown",
   "metadata": {},
   "source": [
    "Test helper to get a test config for a base directory. This is used internally to test setup in a temp directory."
   ]
  },
  {
   "cell_type": "code",
   "execution_count": 120,
   "metadata": {},
   "outputs": [],
   "source": [
    "const getTestConfig = (baseDir: string): Config => configSchema.parse({\n",
    "  nbsPath: path.join(baseDir, \"nbs\"),\n",
    "  outputPath: path.join(baseDir, \"jurassic\"),\n",
    "});"
   ]
  },
  {
   "cell_type": "code",
   "execution_count": 121,
   "metadata": {},
   "outputs": [
    {
     "data": {
      "text/plain": [
       "{ nbsPath: \u001b[32m\"nbs\"\u001b[39m, outputPath: \u001b[32m\"jurassic\"\u001b[39m }"
      ]
     },
     "execution_count": 121,
     "metadata": {},
     "output_type": "execute_result"
    }
   ],
   "source": [
    "getTestConfig(\"./\")"
   ]
  },
  {
   "cell_type": "markdown",
   "metadata": {},
   "source": [
    "## Parse and process notebooks\n",
    "\n",
    "Home made notebook parser + cell processor"
   ]
  },
  {
   "cell_type": "code",
   "execution_count": 122,
   "metadata": {},
   "outputs": [],
   "source": [
    "//| export\n",
    "\n",
    "const cellSchema = z.object({ cell_type: z.enum([\"code\", \"markdown\"]), source: z.array(z.string())  });\n",
    "const nbSchema = z.object({ cells: z.array(cellSchema) });\n",
    "\n",
    "type Cell = z.infer<typeof cellSchema>;\n",
    "type Nb = z.infer<typeof nbSchema>;"
   ]
  },
  {
   "cell_type": "markdown",
   "metadata": {},
   "source": [
    "Helpers for determining if a given line in a cell is a directive. Directives look like this:\n",
    "\n",
    "```ts\n",
    "//| export\n",
    "```"
   ]
  },
  {
   "cell_type": "code",
   "execution_count": 123,
   "metadata": {},
   "outputs": [],
   "source": [
    "//| export\n",
    "\n",
    "const isDirective = (ln: string): boolean => ln.replaceAll(\" \", \"\").startsWith(\"//|\");\n"
   ]
  },
  {
   "cell_type": "code",
   "execution_count": 124,
   "metadata": {},
   "outputs": [
    {
     "name": "stdout",
     "output_type": "stream",
     "text": [
      "isDirective ... \u001b[0m\u001b[32mok\u001b[0m \u001b[0m\u001b[38;5;245m(0ms)\u001b[0m\n",
      "\n",
      "\u001b[0m\u001b[32mok\u001b[0m | 1 passed | 0 failed \u001b[0m\u001b[38;5;245m(0ms)\u001b[0m\n"
     ]
    }
   ],
   "source": [
    "import { assertEquals } from \"jsr:@std/assert\";\n",
    "\n",
    "Deno.test(\"isDirective\", () => {\n",
    "  assertEquals(isDirective(\"//| export\"), true);\n",
    "  assertEquals(isDirective(\"const c = 1;\"), false);\n",
    "  assertEquals(isDirective(\"// | export\"), true);\n",
    "  assertEquals(isDirective(\"// |    export\"), true);\n",
    "});\n"
   ]
  },
  {
   "cell_type": "markdown",
   "metadata": {},
   "source": [
    "Determine if a given cell is exportable. \"Exportable\" means that its contents will end up in corresponding ts module."
   ]
  },
  {
   "cell_type": "code",
   "execution_count": 125,
   "metadata": {},
   "outputs": [],
   "source": [
    "//| export\n",
    "\n",
    "const isCellExportable = (cell: Cell): boolean =>\n",
    "  cell.cell_type === \"code\" &&\n",
    "  cell.source.length > 0 &&\n",
    "  isDirective(cell.source[0]) &&\n",
    "  cell.source[0].includes(\"export\");"
   ]
  },
  {
   "cell_type": "code",
   "execution_count": 126,
   "metadata": {},
   "outputs": [
    {
     "name": "stdout",
     "output_type": "stream",
     "text": [
      "isCellExportable ... \u001b[0m\u001b[32mok\u001b[0m \u001b[0m\u001b[38;5;245m(0ms)\u001b[0m\n",
      "\n",
      "\u001b[0m\u001b[32mok\u001b[0m | 1 passed | 0 failed \u001b[0m\u001b[38;5;245m(0ms)\u001b[0m\n"
     ]
    }
   ],
   "source": [
    "import { assertEquals } from \"jsr:@std/assert\";\n",
    "\n",
    "Deno.test(\"isCellExportable\", () => {\n",
    "  assertEquals(isCellExportable({ cell_type: \"code\", source: [\"//| export\\n\"] }), true);\n",
    "  assertEquals(isCellExportable({ cell_type: \"code\", source: [\"const c = 1;\"] }), false);\n",
    "  assertEquals(isCellExportable({ cell_type: \"code\", source: [\"//|export\\n\"] }), true);\n",
    "  assertEquals(isCellExportable({ cell_type: \"markdown\", source: [\"# showing //| export\\n\"] }), false);\n",
    "  assertEquals(isCellExportable({ cell_type: \"code\", source: [\"//|export\"] }), true);\n",
    "});\n"
   ]
  },
  {
   "cell_type": "markdown",
   "metadata": {},
   "source": [
    "Process notebook - transfer exportable code from cells into ts module"
   ]
  },
  {
   "cell_type": "code",
   "execution_count": 127,
   "metadata": {},
   "outputs": [],
   "source": [
    "//| export\n",
    "\n",
    "const processNb = async (nbPath: string): Promise<string> => {\n",
    "  const nb = nbSchema.parse(JSON.parse(await Deno.readTextFile(nbPath)));\n",
    "  // we only need exportable cells\n",
    "  const exportCells = nb.cells.filter((cell) => isCellExportable(cell));\n",
    "  return exportCells.reduce(\n",
    "    // get rid of directives, we want code only\n",
    "    (acc, cell) => acc + cell.source.filter((s) => !isDirective(s)).join(\"\"),\n",
    "    `//source ${nbPath}\\n\\n`\n",
    "  );\n",
    "}"
   ]
  },
  {
   "cell_type": "code",
   "execution_count": 128,
   "metadata": {},
   "outputs": [
    {
     "data": {
      "text/markdown": [
       "```ts\n",
       "\n",
       "//source ./export.ipynb\n",
       "\n",
       "\n",
       "import { z } from \"npm:zod@^3.23.8\";\n",
       "import path from \"node:path\";\n",
       "\n",
       "const configSchema = z.object({\n",
       "  nbsPath: z.string().default(\".\"),\n",
       "  outputPath: z.string().default(\".\"),\n",
       "});\n",
       "\n",
       "export type Config = z.infer<typeof configSchema>;\n",
       "const findConfig = async ( dir: string = Deno.cwd(), d = 0, config = \"jurassic.json\", maxD = 10): Promise<string> => {\n",
       "  if (d >= maxD) { throw new Error(\"max depth reached\"); }\n",
       "\n",
       "  try {\n",
       "    const f = path.join(dir, config);\n",
       "    await Deno.lstat(f);\n",
       "    return f;\n",
       "  } catch (e) {\n",
       "    return findConfig(path.join(dir, \"../\"), d + 1);\n",
       "  }\n",
       "};\n",
       "export const getConfig = async (): Promise<Config> => {\n",
       "  const cf = await findConfig();\n",
       "  const dcf = path.dirname(cf);\n",
       "  const c = configSchema.parse(JSON.parse(await Deno.readTextFile(cf)));\n",
       "  c.nbsPath = path.join(dcf, c.nbsPath);\n",
       "  c.outputPath = path.join(dcf, c.outputPath);\n",
       "  return c;\n",
       "};\n",
       "const cellSchema = z.object({ cell_type: z.enum([\"code\", \"markdown\"]), source: z.array(z.string())  });\n",
       "const nbSchema = z.object({ cells: z.array(cellSchema) });\n",
       "\n",
       "type Cell = z.infer<typeof cellSchema>;\n",
       "type Nb = z.infer<typeof nbSchema>;\n",
       "const isDirective = (ln: string): boolean => ln.replaceAll(\" \", \"\").startsWith(\"//|\");\n",
       "\n",
       "const isCellExportable = (cell: Cell): boolean =>\n",
       "  cell.cell_type === \"code\" &&\n",
       "  cell.source.length > 0 &&\n",
       "  isDirective(cell.source[0]) &&\n",
       "  cell.source[0].includes(\"export\");\n",
       "const processNb = async (nbPath: string): Promise<string> => {\n",
       "  const nb = nbSchema.parse(JSON.parse(await Deno.readTextFile(nbPath)));\n",
       "  // we only need exportable cells\n",
       "  const exportCells = nb.cells.filter((cell) => isCellExportable(cell));\n",
       "  return exportCells.reduce(\n",
       "    // get rid of directives, we want code only\n",
       "    (acc, cell) => acc + cell.source.filter((s) => !isDirective(s)).join(\"\"),\n",
       "    `//source ${nbPath}\\n\\n`\n",
       "  );\n",
       "}\n",
       "export const exportNb = async (notebookPath: string, config: Config): Promise<void> => {\n",
       "  const fullPath = path.join(config.nbsPath, notebookPath);\n",
       "  const fileInfo = await Deno.stat(fullPath);\n",
       "  const notebooksToProcess: string[] = [];\n",
       "\n",
       "  if (fileInfo.isDirectory) {\n",
       "    // if target is a directory, let's go through all files/directories inside\n",
       "    for await (const file of await Deno.readDir(fullPath)) {\n",
       "      if (file.isDirectory) {\n",
       "        // got another directory? delegate to another exportNb\n",
       "        await exportNb(path.join(notebookPath, file.name), config);\n",
       "        continue;\n",
       "      }\n",
       "\n",
       "      // we are only interested in notebooks\n",
       "      if (!file.name.endsWith(\".ipynb\")) { continue; }\n",
       "\n",
       "      // relative path only, puhleeze\n",
       "      notebooksToProcess.push(\n",
       "        path.relative(config.nbsPath, path.join(fullPath, file.name))\n",
       "      );\n",
       "    }\n",
       "  }\n",
       "\n",
       "  // let's go through all notebooks and process them one by one\n",
       "  for (const notebook of notebooksToProcess) {\n",
       "    // output module is the same as the input notebook, but with .ts extension\n",
       "    const outputFile = notebook.replace(\".ipynb\", \".ts\");\n",
       "    // make sure we preserve subdirectories if any\n",
       "    const outputDir = path.join(config.outputPath, path.dirname(outputFile));\n",
       "    await Deno.mkdir(outputDir, { recursive: true });\n",
       "    await Deno.writeTextFile(\n",
       "      path.join(config.outputPath, outputFile),\n",
       "      await processNb(notebook)\n",
       "    );\n",
       "  }\n",
       "};\n",
       "\n",
       "```"
      ]
     },
     "metadata": {},
     "output_type": "display_data"
    }
   ],
   "source": [
    "await Deno.jupyter.display(\n",
    "  {\n",
    "    \"text/markdown\": \"```ts\\n\\n\" + await processNb(\"./export.ipynb\") + \"\\n```\",\n",
    "  },\n",
    "  { raw: true }\n",
    ");\n"
   ]
  },
  {
   "cell_type": "markdown",
   "metadata": {},
   "source": [
    "Main export functionality. `exportNb` should work on both individual notebooks and directories containing notebooks and subdirectories containing more notebooks 🕳. `notebookPath` is relative to `config.nbsPath`"
   ]
  },
  {
   "cell_type": "code",
   "execution_count": 129,
   "metadata": {},
   "outputs": [],
   "source": [
    "// | export\n",
    "\n",
    "export const exportNb = async (notebookPath: string, config: Config): Promise<void> => {\n",
    "  const fullPath = path.join(config.nbsPath, notebookPath);\n",
    "  const fileInfo = await Deno.stat(fullPath);\n",
    "  const notebooksToProcess: string[] = [];\n",
    "\n",
    "  if (fileInfo.isDirectory) {\n",
    "    // if target is a directory, let's go through all files/directories inside\n",
    "    for await (const file of await Deno.readDir(fullPath)) {\n",
    "      if (file.isDirectory) {\n",
    "        // got another directory? delegate to another exportNb\n",
    "        await exportNb(path.join(notebookPath, file.name), config);\n",
    "        continue;\n",
    "      }\n",
    "\n",
    "      // we are only interested in notebooks\n",
    "      if (!file.name.endsWith(\".ipynb\")) { continue; }\n",
    "\n",
    "      // relative path only, puhleeze\n",
    "      notebooksToProcess.push(\n",
    "        path.relative(config.nbsPath, path.join(fullPath, file.name))\n",
    "      );\n",
    "    }\n",
    "  }\n",
    "\n",
    "  // let's go through all notebooks and process them one by one\n",
    "  for (const notebook of notebooksToProcess) {\n",
    "    // output module is the same as the input notebook, but with .ts extension\n",
    "    const outputFile = notebook.replace(\".ipynb\", \".ts\");\n",
    "    // make sure we preserve subdirectories if any\n",
    "    const outputDir = path.join(config.outputPath, path.dirname(outputFile));\n",
    "    await Deno.mkdir(outputDir, { recursive: true });\n",
    "    await Deno.writeTextFile(\n",
    "      path.join(config.outputPath, outputFile),\n",
    "      await processNb(notebook)\n",
    "    );\n",
    "  }\n",
    "};\n"
   ]
  },
  {
   "cell_type": "markdown",
   "metadata": {},
   "source": [
    "Let's test export functionality"
   ]
  },
  {
   "cell_type": "code",
   "execution_count": 130,
   "metadata": {},
   "outputs": [
    {
     "name": "stdout",
     "output_type": "stream",
     "text": [
      "export ...\n",
      "  test export ..."
     ]
    },
    {
     "data": {
      "text/markdown": [
       "```md\n",
       "- nbs\n",
       "  - submodule\n",
       "    - hello.ipynb\n",
       "  - export.ipynb\n",
       "- jurassic\n",
       "  - submodule\n",
       "    - hello.ts\n",
       "  - export.ts\n",
       "\n",
       "```"
      ]
     },
     "metadata": {},
     "output_type": "display_data"
    },
    {
     "name": "stdout",
     "output_type": "stream",
     "text": [
      " \u001b[0m\u001b[32mok\u001b[0m \u001b[0m\u001b[38;5;245m(2ms)\u001b[0m\n",
      "export ... \u001b[0m\u001b[32mok\u001b[0m \u001b[0m\u001b[38;5;245m(4ms)\u001b[0m\n",
      "\n",
      "\u001b[0m\u001b[32mok\u001b[0m | 1 passed (1 step) | 0 failed \u001b[0m\u001b[38;5;245m(4ms)\u001b[0m\n"
     ]
    }
   ],
   "source": [
    "import { assertNotEquals, assert, assertRejects } from \"jsr:@std/assert\";\n",
    "\n",
    "// create markdown representation of the directory listing files and subdirectories\n",
    "const dirListing = async (dir: string, d = 0): Promise<string> => {\n",
    "  if (d > 10) { return \"\"; }\n",
    "\n",
    "  let md = \"\";\n",
    "  for await (const f of Deno.readDir(dir)) {\n",
    "    md += `${\"  \".repeat(d)}- ${f.name}\\n`;\n",
    "    if (f.isDirectory) {\n",
    "      md += await dirListing(path.join(dir, f.name), d + 1);\n",
    "    }\n",
    "  }\n",
    "  return md;\n",
    "};\n",
    "\n",
    "Deno.test(\"export\", async (t) => {\n",
    "  // set things up, let's recreate mini project structure inside a temp dir\n",
    "  const td = await Deno.makeTempDir({});\n",
    "\n",
    "  // recreate nbs dire in temp dir and copy notebooks there\n",
    "  await Deno.mkdir(`${td}/nbs`), Deno.copyFileSync(\"./export.ipynb\", `${td}/nbs/export.ipynb`);\n",
    "  // recreate submodule directory and copy hello.ipynb to it\n",
    "  await Deno.mkdir(`${td}/nbs/submodule`), Deno.copyFileSync(\"./submodule/hello.ipynb\", `${td}/nbs/submodule/hello.ipynb`);\n",
    "\n",
    "  await t.step(\"test export\", async () => {\n",
    "    await exportNb(\"./\", getTestConfig(td));\n",
    "\n",
    "    // make sure output modules are created\n",
    "    const exportContent = await Deno.readTextFile(`${td}/jurassic/export.ts`);\n",
    "    const submoduleExportContent = await Deno.readTextFile(`${td}/jurassic/submodule/hello.ts`);\n",
    "\n",
    "    // spot check content inside the output modules\n",
    "    assert(exportContent.includes(\"export const exportNb\"));\n",
    "    assert(submoduleExportContent.includes(\"export const foo\"));\n",
    "\n",
    "    // pretty print temp directory structure\n",
    "    await Deno.jupyter.display({ \"text/markdown\": \"```md\\n\" + (await dirListing(td)) + \"\\n```\" }, { raw: true });\n",
    "  });\n",
    "});"
   ]
  }
 ],
 "metadata": {
  "kernelspec": {
   "display_name": "Deno",
   "language": "typescript",
   "name": "deno"
  },
  "language_info": {
   "codemirror_mode": "typescript",
   "file_extension": ".ts",
   "mimetype": "text/x.typescript",
   "name": "typescript",
   "nbconvert_exporter": "script",
   "pygments_lexer": "typescript",
   "version": "5.6.2"
  }
 },
 "nbformat": 4,
 "nbformat_minor": 2
}
