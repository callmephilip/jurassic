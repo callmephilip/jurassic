{
 "cells": [
  {
   "cell_type": "markdown",
   "metadata": {},
   "source": [
    "# Export\n",
    "\n",
    "Parse notebook and extract exportable code cells into corresponding TS modules (directives shamelessly copied from `nbdev`)"
   ]
  },
  {
   "cell_type": "code",
   "execution_count": 1,
   "metadata": {},
   "outputs": [],
   "source": [
    "//| export\n",
    "\n",
    "import { z } from \"npm:zod@^3.23.8\";\n",
    "import path from \"node:path\";\n"
   ]
  },
  {
   "cell_type": "code",
   "execution_count": 2,
   "metadata": {},
   "outputs": [],
   "source": [
    "//| export\n",
    "\n",
    "const cellSchema = z.object({\n",
    "  cell_type: z.enum([\"code\", \"markdown\"]),\n",
    "  source: z.array(z.string()),\n",
    "});\n",
    "\n",
    "const nbSchema = z.object({\n",
    "  cells: z.array(cellSchema)\n",
    "});\n",
    "\n",
    "type Cell = z.infer<typeof cellSchema>;\n",
    "type Nb = z.infer<typeof nbSchema>;\n",
    "\n",
    "const is_directive = (ln: string) : boolean => ln.replaceAll(\" \", \"\").startsWith(\"//|\"); \n",
    "const is_cell_exportable = (cell: Cell) : boolean => cell.cell_type === \"code\" && cell.source.length > 0 && is_directive(cell.source[0])\n",
    "  && cell.source[0].includes(\"export\");\n",
    "\n",
    "export const exportNb = async (nb_path: string): Promise<void> => {\n",
    "  const module_name = path.basename(nb_path).replace(\".ipynb\", \".ts\");\n",
    "  const nb = nbSchema.parse(JSON.parse(await Deno.readTextFile(nb_path)));\n",
    "  const export_cells = nb.cells.filter(cell => is_cell_exportable(cell));\n",
    "  await Deno.writeTextFile(\n",
    "    module_name,\n",
    "    export_cells.reduce((acc, cell) => acc + cell.source.filter(s => !is_directive(s)).join(\"\"), `//source ${nb_path}\\n\\n`)\n",
    "  );\n",
    "}"
   ]
  },
  {
   "cell_type": "code",
   "execution_count": 3,
   "metadata": {},
   "outputs": [],
   "source": [
    "await exportNb(\"./export.ipynb\");"
   ]
  },
  {
   "cell_type": "code",
   "execution_count": 4,
   "metadata": {},
   "outputs": [
    {
     "name": "stdout",
     "output_type": "stream",
     "text": [
      "is_directive ... \u001b[0m\u001b[32mok\u001b[0m \u001b[0m\u001b[38;5;245m(0ms)\u001b[0m\n",
      "is_cell_exportable ... \u001b[0m\u001b[32mok\u001b[0m \u001b[0m\u001b[38;5;245m(0ms)\u001b[0m\n",
      "\n",
      "\u001b[0m\u001b[32mok\u001b[0m | 2 passed | 0 failed \u001b[0m\u001b[38;5;245m(0ms)\u001b[0m\n"
     ]
    }
   ],
   "source": [
    "import { assertEquals } from \"jsr:@std/assert\";\n",
    "\n",
    "Deno.test(\"is_directive\", () => {\n",
    "  assertEquals(is_directive(\"//| export\"), true);\n",
    "  assertEquals(is_directive(\"const c = 1;\"), false);\n",
    "  assertEquals(is_directive(\"// | export\"), true);\n",
    "  assertEquals(is_directive(\"// |    export\"), true);\n",
    "});\n",
    "\n",
    "Deno.test(\"is_cell_exportable\", () => {\n",
    "  assertEquals(is_cell_exportable({cell_type: \"code\", source: [\"//| export\\n\"]}), true);\n",
    "  assertEquals(is_cell_exportable({cell_type: \"code\", source: [\"const c = 1;\"]}), false);\n",
    "  assertEquals(is_cell_exportable({cell_type: \"code\", source: [\"//|export\\n\"]}), true);\n",
    "  assertEquals(is_cell_exportable({cell_type: \"markdown\", source: [\"# showing //| export\\n\"]}), false);\n",
    "  assertEquals(is_cell_exportable({cell_type: \"code\", source: [\"//|export\"]}), true);\n",
    "});\n"
   ]
  }
 ],
 "metadata": {
  "kernelspec": {
   "display_name": "Deno",
   "language": "typescript",
   "name": "deno"
  },
  "language_info": {
   "codemirror_mode": "typescript",
   "file_extension": ".ts",
   "mimetype": "text/x.typescript",
   "name": "typescript",
   "nbconvert_exporter": "script",
   "pygments_lexer": "typescript",
   "version": "5.6.2"
  }
 },
 "nbformat": 4,
 "nbformat_minor": 2
}
